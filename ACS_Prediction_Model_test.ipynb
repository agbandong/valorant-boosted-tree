{
 "cells": [
  {
   "cell_type": "code",
   "execution_count": null,
   "id": "c35abcd5",
   "metadata": {},
   "outputs": [],
   "source": [
    "import pandas as pd\n",
    "import numpy as np\n",
    "import pickle\n",
    "from xgboost import XGBRegressor\n",
    "from sklearn.metrics import mean_squared_error\n",
    "from datetime import datetime\n",
    "from sklearn.tree import DecisionTreeRegressor\n",
    "from sklearn.linear_model import LinearRegression\n",
    "import matplotlib.pyplot as plt"
   ]
  },
  {
   "cell_type": "code",
   "execution_count": null,
   "id": "0e2ba9de",
   "metadata": {},
   "outputs": [],
   "source": [
    "dateparse = lambda x: datetime.strptime(x, '%Y/%m/%d') if isinstance(x, str) else x"
   ]
  },
  {
   "cell_type": "code",
   "execution_count": null,
   "id": "b57f751a",
   "metadata": {},
   "outputs": [],
   "source": [
    "# Load the data\n",
    "data = pd.read_excel('SignedPlayersDatasetVALORANT.xlsx', parse_dates=['date'], date_parser=dateparse)\n",
    "# Fix name errors\n",
    "data = data.replace('\\n','', regex=True)\n",
    "data = data.replace(' ','', regex=True)\n",
    "#test_data = pd.read_excel('Test Dataset VALORANT VCT DATASET.xlsx', parse_dates=['date'], date_parser=dateparse).dropna(how='any',axis=0)"
   ]
  },
  {
   "cell_type": "code",
   "execution_count": null,
   "id": "3c9589a6",
   "metadata": {},
   "outputs": [],
   "source": [
    "# Select features and target variable\n",
    "input_features = ['date', 'player']\n",
    "features = ['kills_per_round', 'assists_per_round', 'average_damage_per_round',\n",
    "            'first_kills_per_round', 'first_deaths_per_round', 'headshot_percentage',\n",
    "            'clutch_success_percentage', 'total_kills', 'total_deaths', 'total_assists',\n",
    "            'total_first_kills', 'total_first_deaths']\n",
    "target_variable = 'average_combat_score'\n",
    "#Note: create models w/ target variable for rounds and rating"
   ]
  },
  {
   "cell_type": "code",
   "execution_count": null,
   "id": "a8d0ec8a",
   "metadata": {},
   "outputs": [],
   "source": [
    "# Get dates and players\n",
    "dates = data['date'].unique()\n",
    "players = data['player'].unique()"
   ]
  },
  {
   "cell_type": "code",
   "execution_count": null,
   "id": "8a538436",
   "metadata": {},
   "outputs": [],
   "source": [
    "# For getting difference in months\n",
    "def diff_month(d1, d2):\n",
    "    return (d1.year - d2.year) * 12 + d1.month - d2.month\n",
    "\n",
    "def months_from_2021(dates):\n",
    "    months_from_Jan_2021 = []\n",
    "    for date in dates:\n",
    "        months_from_Jan_2021.append(diff_month(date, datetime.strptime('2021/01/01', '%Y/%m/%d')))\n",
    "    return months_from_Jan_2021"
   ]
  },
  {
   "cell_type": "code",
   "execution_count": null,
   "id": "aab0abdd",
   "metadata": {},
   "outputs": [],
   "source": []
  },
  {
   "cell_type": "code",
   "execution_count": null,
   "id": "04254524",
   "metadata": {},
   "outputs": [],
   "source": [
    "def predict_player_feature(player, date, feature):\n",
    "    date_array = [dateparse(date)]\n",
    "    date_from_Jan_2021 = months_from_2021(date_array)\n",
    "    return player_feature_models.get(player).get(feature).predict(np.array([date_from_Jan_2021]))[0]"
   ]
  },
  {
   "cell_type": "code",
   "execution_count": null,
   "id": "9b4a6a18",
   "metadata": {},
   "outputs": [],
   "source": [
    "def predict_players_values(players_and_dates):\n",
    "    players_and_dates = players_and_dates.assign(months_from_Jan_2021 = months_from_2021(players_and_dates['date']))\n",
    "    player_predicted_values = pd.DataFrame()\n",
    "    for feature in features:\n",
    "        player_values = []\n",
    "        for player_and_date in players_and_dates.itertuples():\n",
    "            player_values.append(predict_player_feature(player_and_date.player, player_and_date.date, feature))\n",
    "        player_predicted_values[feature] = player_values\n",
    "    return pd.DataFrame(player_predicted_values)"
   ]
  },
  {
   "cell_type": "code",
   "execution_count": null,
   "id": "638aee2b",
   "metadata": {},
   "outputs": [],
   "source": [
    "#Predict ACS\n",
    "def predictACS(players_and_dates):\n",
    "    return model.predict(predict_players_values(players_and_dates))"
   ]
  },
  {
   "cell_type": "code",
   "execution_count": null,
   "id": "54ad19b4",
   "metadata": {},
   "outputs": [],
   "source": [
    "#Player predictions on date\n",
    "#Note: Use pandas dataframe on this. \n",
    "def playerStatPredictions(players_and_dates):\n",
    "    players_predictions = players_and_dates.copy()\n",
    "    players_predictions = pd.merge(players_predictions, predict_players_values(players_and_dates), left_index=True, right_index=True)\n",
    "    players_predictions['average_combat_score'] = predictACS(players_and_dates)\n",
    "    return players_predictions"
   ]
  },
  {
   "cell_type": "code",
   "execution_count": null,
   "id": "c80bdbb2",
   "metadata": {},
   "outputs": [],
   "source": [
    "#Get all players in dates\n",
    "def all_players_date(dates_used):\n",
    "    index = pd.MultiIndex.from_product([players, dates_used], names = [\"player\", \"date\"])\n",
    "    players_dates_pd = pd.DataFrame(index = index).reset_index()\n",
    "    players_dates_pd['date'] = pd.to_datetime(players_dates_pd['date'])\n",
    "    return players_dates_pd"
   ]
  },
  {
   "cell_type": "code",
   "execution_count": null,
   "id": "13b3a360",
   "metadata": {},
   "outputs": [],
   "source": []
  },
  {
   "cell_type": "code",
   "execution_count": null,
   "id": "9de75304",
   "metadata": {},
   "outputs": [],
   "source": [
    "#Test tree model\n",
    "model_mse = pd.DataFrame()\n",
    "prediction_features = predict_players_values(data[['player', 'date']])\n",
    "prediction_ACS = predictACS(data[['player', 'date']])\n",
    "model_mse['ACS_mse'] = [mean_squared_error(data['average_combat_score'], prediction_ACS)]\n",
    "for feature in features:\n",
    "    model_mse[feature + '_mse'] = [mean_squared_error(data[feature], prediction_features[feature])]\n",
    "model_mse"
   ]
  },
  {
   "cell_type": "code",
   "execution_count": null,
   "id": "3479caf3",
   "metadata": {},
   "outputs": [],
   "source": [
    "# Actual vs Predicted graph\n",
    "\n",
    "# Create a larger figure\n",
    "plt.figure(figsize=(18, 18))\n",
    "\n",
    "# Plot actual vs predicted values with player names\n",
    "plt.scatter(data['average_combat_score'], prediction_ACS)\n",
    "plt.plot([min(y_test), max(y_test)], [min(y_test), max(y_test)], linestyle='--', color='red', linewidth=2)\n",
    "plt.xlabel(\"Actual Average Combat Score\")\n",
    "plt.ylabel(\"Predicted Average Combat Score\")\n",
    "plt.title(\"Actual vs Predicted Average Combat Score\")\n",
    "\n",
    "plt.show()"
   ]
  },
  {
   "cell_type": "code",
   "execution_count": null,
   "id": "0a965550",
   "metadata": {},
   "outputs": [],
   "source": [
    "#Predict Missing values\n",
    "all_players_dates_pd = all_players_date(dates)\n",
    "all_data = all_players_dates_pd.merge(data, on=['player', 'date'], how='left')\n",
    "missing_data = all_data[pd.isna(all_data['average_combat_score'])].reset_index(drop=True)\n",
    "missing_data_predict = playerStatPredictions(missing_data[['player', 'date']])\n",
    "all_data_w_predict = all_data.set_index(['player', 'date']).combine_first(missing_data_predict.set_index(['player', 'date'])).reset_index()"
   ]
  },
  {
   "cell_type": "code",
   "execution_count": null,
   "id": "c7b9e9cd",
   "metadata": {},
   "outputs": [],
   "source": [
    "#Other graphs"
   ]
  },
  {
   "cell_type": "code",
   "execution_count": null,
   "id": "2f2b0953",
   "metadata": {},
   "outputs": [],
   "source": [
    "# Plot of all player performance over time\n",
    "\n",
    "# Create a larger figure\n",
    "fig, ax = plt.subplots(figsize=(12, 8))\n",
    "\n",
    "# Plotting the performance of players from every tournament\n",
    "for player_name, player_data in all_data_w_predict.groupby('player'):\n",
    "    ax.plot(player_data['date'], player_data['average_combat_score'], label=player_name)\n",
    "\n",
    "# Set labels and title\n",
    "ax.set_xlabel('Date')\n",
    "ax.set_ylabel('Average Combat Score')\n",
    "ax.set_title('Player Performance Over Time')\n",
    "\n",
    "# Move the legend outside the plot box\n",
    "ax.legend(loc='center left', bbox_to_anchor=(1, 0.5))\n",
    "\n",
    "# Show the plot\n",
    "plt.show()"
   ]
  },
  {
   "cell_type": "code",
   "execution_count": null,
   "id": "53ee1406",
   "metadata": {},
   "outputs": [],
   "source": [
    "# Plot of top 5 player performance over time"
   ]
  },
  {
   "cell_type": "code",
   "execution_count": null,
   "id": "71abbfbf",
   "metadata": {},
   "outputs": [],
   "source": [
    "#Get top 5 players with ACS from this period\n",
    "top_ACS_players = all_data.sort_values('average_combat_score', ascending=False).drop_duplicates(subset='player', keep='first')\n",
    "top_5_ACS_players = top_ACS_players.head(5)"
   ]
  },
  {
   "cell_type": "code",
   "execution_count": null,
   "id": "1f7df897",
   "metadata": {},
   "outputs": [],
   "source": [
    "# Create a larger figure\n",
    "fig, ax = plt.subplots(figsize=(12, 8))\n",
    "\n",
    "# Plotting the performance of players from every tournament\n",
    "for player_name, player_data in top_5_ACS_players.groupby('player'):\n",
    "    ax.plot(player_data['date'], player_data['average_combat_score'], label=player_name)\n",
    "\n",
    "# Set labels and title\n",
    "ax.set_xlabel('Date')\n",
    "ax.set_ylabel('Average Combat Score')\n",
    "ax.set_title('Player Performance Over Time')\n",
    "\n",
    "# Move the legend outside the plot box\n",
    "ax.legend(loc='center left', bbox_to_anchor=(1, 0.5))\n",
    "\n",
    "# Show the plot\n",
    "plt.show()"
   ]
  },
  {
   "cell_type": "code",
   "execution_count": null,
   "id": "cdf4fe3b",
   "metadata": {},
   "outputs": [],
   "source": [
    "#Get ACS and stats of players at next tournament date\n",
    "next_tourney_date = '2024/1/23'\n",
    "players_tournament = pd.DataFrame({'player':players, 'date':next_tourney_date})\n",
    "players_tournament['date'] = pd.to_datetime(players_tournament['date'])"
   ]
  },
  {
   "cell_type": "code",
   "execution_count": null,
   "id": "838efe19",
   "metadata": {},
   "outputs": [],
   "source": [
    "players_tournament = playerStatPredictions(players_tournament)"
   ]
  },
  {
   "cell_type": "code",
   "execution_count": null,
   "id": "cd6edc7e",
   "metadata": {},
   "outputs": [],
   "source": [
    "#Top 10 players next tournament\n",
    "players_tournament.sort_values('average_combat_score', ascending=False).head(10)"
   ]
  },
  {
   "cell_type": "code",
   "execution_count": null,
   "id": "9a25cd46",
   "metadata": {},
   "outputs": [],
   "source": [
    "#Get ACS and stats of players at next tournaments\n",
    "future_dates = ['2024-03-01', '2024-03-15', '2024-04-01']"
   ]
  },
  {
   "cell_type": "code",
   "execution_count": null,
   "id": "42ad7667",
   "metadata": {},
   "outputs": [],
   "source": [
    "multiple_player_tournament = playerStatPredictions(all_players_date(future_dates))"
   ]
  },
  {
   "cell_type": "code",
   "execution_count": null,
   "id": "8fda7092",
   "metadata": {},
   "outputs": [],
   "source": [
    "#Top 10 players at the next 3 tournaments\n",
    "multiple_player_tournament.sort_values('average_combat_score', ascending=False).head(10)"
   ]
  },
  {
   "cell_type": "code",
   "execution_count": null,
   "id": "558fcb87",
   "metadata": {},
   "outputs": [],
   "source": []
  }
 ],
 "metadata": {
  "kernelspec": {
   "display_name": "Python 3 (ipykernel)",
   "language": "python",
   "name": "python3"
  },
  "language_info": {
   "codemirror_mode": {
    "name": "ipython",
    "version": 3
   },
   "file_extension": ".py",
   "mimetype": "text/x-python",
   "name": "python",
   "nbconvert_exporter": "python",
   "pygments_lexer": "ipython3",
   "version": "3.9.7"
  }
 },
 "nbformat": 4,
 "nbformat_minor": 5
}
