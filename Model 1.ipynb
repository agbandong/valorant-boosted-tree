{
 "cells": [
  {
   "cell_type": "code",
   "execution_count": null,
   "id": "d32fbff7",
   "metadata": {},
   "outputs": [],
   "source": []
  },
  {
   "cell_type": "code",
   "execution_count": 1,
   "id": "655bd15a",
   "metadata": {},
   "outputs": [],
   "source": [
    "import pandas as pd\n",
    "from xgboost import XGBRegressor\n",
    "from sklearn.metrics import mean_squared_error"
   ]
  },
  {
   "cell_type": "code",
   "execution_count": 2,
   "id": "2f82db63",
   "metadata": {},
   "outputs": [],
   "source": [
    "# Load the data\n",
    "data = pd.read_excel('VCT_DATASET.xlsx')\n",
    "test_data = pd.read_excel('Test_VCT_DATASET.xlsx').dropna(how='any',axis=0)"
   ]
  },
  {
   "cell_type": "code",
   "execution_count": 3,
   "id": "b5bd734d",
   "metadata": {},
   "outputs": [],
   "source": [
    "# Select features and target variable\n",
    "features = ['rounds', 'rating', 'kills_per_round', 'assists_per_round',\n",
    "            'first_kills_per_round', 'first_deaths_per_round', 'headshot_percentage',\n",
    "            'clutch_success_percentage', 'total_kills', 'total_deaths', 'total_assists',\n",
    "            'total_first_kills', 'total_first_deaths']\n",
    "\n",
    "target_variable = 'average_combat_score'"
   ]
  },
  {
   "cell_type": "code",
   "execution_count": 4,
   "id": "e0bce33b",
   "metadata": {},
   "outputs": [],
   "source": [
    "# Split variables\n",
    "X_train = data[features]\n",
    "X_test = test_data[features]\n",
    "y_train = data[target_variable]\n",
    "y_test = test_data[target_variable]"
   ]
  },
  {
   "cell_type": "code",
   "execution_count": 5,
   "id": "b46ca3a8",
   "metadata": {},
   "outputs": [],
   "source": [
    "# Initialize the XGBoost Regressor\n",
    "model = XGBRegressor()"
   ]
  },
  {
   "cell_type": "code",
   "execution_count": 6,
   "id": "152ab825",
   "metadata": {},
   "outputs": [
    {
     "data": {
      "text/plain": [
       "XGBRegressor(base_score=None, booster=None, callbacks=None,\n",
       "             colsample_bylevel=None, colsample_bynode=None,\n",
       "             colsample_bytree=None, early_stopping_rounds=None,\n",
       "             enable_categorical=False, eval_metric=None, feature_types=None,\n",
       "             gamma=None, gpu_id=None, grow_policy=None, importance_type=None,\n",
       "             interaction_constraints=None, learning_rate=None, max_bin=None,\n",
       "             max_cat_threshold=None, max_cat_to_onehot=None,\n",
       "             max_delta_step=None, max_depth=None, max_leaves=None,\n",
       "             min_child_weight=None, missing=nan, monotone_constraints=None,\n",
       "             n_estimators=100, n_jobs=None, num_parallel_tree=None,\n",
       "             predictor=None, random_state=None, ...)"
      ]
     },
     "execution_count": 6,
     "metadata": {},
     "output_type": "execute_result"
    }
   ],
   "source": [
    "# Train the model\n",
    "model.fit(X_train, y_train)"
   ]
  },
  {
   "cell_type": "code",
   "execution_count": 7,
   "id": "4f8576fe",
   "metadata": {},
   "outputs": [],
   "source": [
    "# Make predictions on the test set\n",
    "y_pred = model.predict(X_test.to_numpy())"
   ]
  },
  {
   "cell_type": "code",
   "execution_count": 8,
   "id": "dbd48892",
   "metadata": {
    "scrolled": true
   },
   "outputs": [
    {
     "name": "stdout",
     "output_type": "stream",
     "text": [
      "mean Squared Error: 98.51821786988859\n"
     ]
    }
   ],
   "source": [
    "# Evaluate the model\n",
    "mse = mean_squared_error(y_test, y_pred)\n",
    "print(f'Mean Squared Error: {mse}')"
   ]
  },
  {
   "cell_type": "code",
   "execution_count": null,
   "id": "40e20e07",
   "metadata": {},
   "outputs": [],
   "source": []
  },
  {
   "cell_type": "code",
   "execution_count": null,
   "id": "8dff79f0",
   "metadata": {},
   "outputs": [],
   "source": [
    "#With Hyperparameter tuning"
   ]
  },
  {
   "cell_type": "code",
   "execution_count": 17,
   "id": "647a75d5",
   "metadata": {},
   "outputs": [
    {
     "ename": "NameError",
     "evalue": "name 'TargetEncoder' is not defined",
     "output_type": "error",
     "traceback": [
      "\u001b[1;31m---------------------------------------------------------------------------\u001b[0m",
      "\u001b[1;31mNameError\u001b[0m                                 Traceback (most recent call last)",
      "Input \u001b[1;32mIn [17]\u001b[0m, in \u001b[0;36m<cell line: 4>\u001b[1;34m()\u001b[0m\n\u001b[0;32m      1\u001b[0m \u001b[38;5;28;01mfrom\u001b[39;00m \u001b[38;5;21;01msklearn\u001b[39;00m\u001b[38;5;21;01m.\u001b[39;00m\u001b[38;5;21;01mpipeline\u001b[39;00m \u001b[38;5;28;01mimport\u001b[39;00m Pipeline\n\u001b[0;32m      3\u001b[0m estimators \u001b[38;5;241m=\u001b[39m [\n\u001b[1;32m----> 4\u001b[0m     (\u001b[38;5;124m'\u001b[39m\u001b[38;5;124mencoder\u001b[39m\u001b[38;5;124m'\u001b[39m, \u001b[43mTargetEncoder\u001b[49m()),\n\u001b[0;32m      5\u001b[0m     (\u001b[38;5;124m'\u001b[39m\u001b[38;5;124mclf\u001b[39m\u001b[38;5;124m'\u001b[39m, XGBRegressor(random_state\u001b[38;5;241m=\u001b[39m\u001b[38;5;241m8\u001b[39m)) \u001b[38;5;66;03m# can customize objective function with the objective parameter\u001b[39;00m\n\u001b[0;32m      6\u001b[0m ]\n\u001b[0;32m      7\u001b[0m pipe \u001b[38;5;241m=\u001b[39m Pipeline(steps\u001b[38;5;241m=\u001b[39mestimators)\n\u001b[0;32m      8\u001b[0m pipe\n",
      "\u001b[1;31mNameError\u001b[0m: name 'TargetEncoder' is not defined"
     ]
    }
   ],
   "source": [
    "from sklearn.pipeline import Pipeline\n",
    "\n",
    "estimators = [\n",
    "    ('clf', XGBRegressor(random_state=8)) # can customize objective function with the objective parameter\n",
    "]\n",
    "pipe = Pipeline(steps=estimators)\n",
    "pipe"
   ]
  },
  {
   "cell_type": "code",
   "execution_count": 37,
   "id": "64efa9fd",
   "metadata": {},
   "outputs": [],
   "source": [
    "#Set up hyperparameter tuning\n",
    "from skopt import BayesSearchCV\n",
    "from skopt.space import Real, Categorical, Integer\n",
    "\n",
    "search_space = {\n",
    "    'clf__max_depth': Integer(2,8),\n",
    "    'clf__learning_rate': Real(0.001, 1.0, prior='log-uniform'),\n",
    "    'clf__subsample': Real(0.5, 1.0),\n",
    "    'clf__colsample_bytree': Real(0.5, 1.0),\n",
    "    'clf__colsample_bylevel': Real(0.5, 1.0),\n",
    "    'clf__colsample_bynode' : Real(0.5, 1.0),\n",
    "    'clf__reg_alpha': Real(0.0, 10.0),\n",
    "    'clf__reg_lambda': Real(0.0, 10.0),\n",
    "    'clf__gamma': Real(0.0, 10.0)\n",
    "}\n",
    "\n",
    "opt = BayesSearchCV(pipe, search_space, cv=3, n_iter=10, scoring='neg_mean_squared_error', random_state=8) \n",
    "# in reality, you may consider setting cv and n_iter to higher values"
   ]
  },
  {
   "cell_type": "code",
   "execution_count": null,
   "id": "0667b4a6",
   "metadata": {},
   "outputs": [],
   "source": [
    "#Train opt"
   ]
  },
  {
   "cell_type": "code",
   "execution_count": 38,
   "id": "ce41a7aa",
   "metadata": {},
   "outputs": [
    {
     "ename": "ValueError",
     "evalue": "'mean_squared_error' is not a valid scoring value. Use sorted(sklearn.metrics.SCORERS.keys()) to get valid options.",
     "output_type": "error",
     "traceback": [
      "\u001b[1;31m---------------------------------------------------------------------------\u001b[0m",
      "\u001b[1;31mKeyError\u001b[0m                                  Traceback (most recent call last)",
      "File \u001b[1;32m~\\anaconda3\\lib\\site-packages\\sklearn\\metrics\\_scorer.py:404\u001b[0m, in \u001b[0;36mget_scorer\u001b[1;34m(scoring)\u001b[0m\n\u001b[0;32m    403\u001b[0m \u001b[38;5;28;01mtry\u001b[39;00m:\n\u001b[1;32m--> 404\u001b[0m     scorer \u001b[38;5;241m=\u001b[39m \u001b[43mSCORERS\u001b[49m\u001b[43m[\u001b[49m\u001b[43mscoring\u001b[49m\u001b[43m]\u001b[49m\n\u001b[0;32m    405\u001b[0m \u001b[38;5;28;01mexcept\u001b[39;00m \u001b[38;5;167;01mKeyError\u001b[39;00m:\n",
      "\u001b[1;31mKeyError\u001b[0m: 'mean_squared_error'",
      "\nDuring handling of the above exception, another exception occurred:\n",
      "\u001b[1;31mValueError\u001b[0m                                Traceback (most recent call last)",
      "Input \u001b[1;32mIn [38]\u001b[0m, in \u001b[0;36m<cell line: 1>\u001b[1;34m()\u001b[0m\n\u001b[1;32m----> 1\u001b[0m \u001b[43mopt\u001b[49m\u001b[38;5;241;43m.\u001b[39;49m\u001b[43mfit\u001b[49m\u001b[43m(\u001b[49m\u001b[43mX_train\u001b[49m\u001b[43m,\u001b[49m\u001b[43m \u001b[49m\u001b[43my_train\u001b[49m\u001b[43m)\u001b[49m\n",
      "File \u001b[1;32m~\\anaconda3\\lib\\site-packages\\skopt\\searchcv.py:466\u001b[0m, in \u001b[0;36mBayesSearchCV.fit\u001b[1;34m(self, X, y, groups, callback, **fit_params)\u001b[0m\n\u001b[0;32m    463\u001b[0m \u001b[38;5;28;01melse\u001b[39;00m:\n\u001b[0;32m    464\u001b[0m     \u001b[38;5;28mself\u001b[39m\u001b[38;5;241m.\u001b[39moptimizer_kwargs_ \u001b[38;5;241m=\u001b[39m \u001b[38;5;28mdict\u001b[39m(\u001b[38;5;28mself\u001b[39m\u001b[38;5;241m.\u001b[39moptimizer_kwargs)\n\u001b[1;32m--> 466\u001b[0m \u001b[38;5;28msuper\u001b[39m()\u001b[38;5;241m.\u001b[39mfit(X\u001b[38;5;241m=\u001b[39mX, y\u001b[38;5;241m=\u001b[39my, groups\u001b[38;5;241m=\u001b[39mgroups, \u001b[38;5;241m*\u001b[39m\u001b[38;5;241m*\u001b[39mfit_params)\n\u001b[0;32m    468\u001b[0m \u001b[38;5;66;03m# BaseSearchCV never ranked train scores,\u001b[39;00m\n\u001b[0;32m    469\u001b[0m \u001b[38;5;66;03m# but apparently we used to ship this (back-compat)\u001b[39;00m\n\u001b[0;32m    470\u001b[0m \u001b[38;5;28;01mif\u001b[39;00m \u001b[38;5;28mself\u001b[39m\u001b[38;5;241m.\u001b[39mreturn_train_score:\n",
      "File \u001b[1;32m~\\anaconda3\\lib\\site-packages\\sklearn\\model_selection\\_search.py:793\u001b[0m, in \u001b[0;36mBaseSearchCV.fit\u001b[1;34m(self, X, y, groups, **fit_params)\u001b[0m\n\u001b[0;32m    791\u001b[0m     scorers \u001b[38;5;241m=\u001b[39m \u001b[38;5;28mself\u001b[39m\u001b[38;5;241m.\u001b[39mscoring\n\u001b[0;32m    792\u001b[0m \u001b[38;5;28;01melif\u001b[39;00m \u001b[38;5;28mself\u001b[39m\u001b[38;5;241m.\u001b[39mscoring \u001b[38;5;129;01mis\u001b[39;00m \u001b[38;5;28;01mNone\u001b[39;00m \u001b[38;5;129;01mor\u001b[39;00m \u001b[38;5;28misinstance\u001b[39m(\u001b[38;5;28mself\u001b[39m\u001b[38;5;241m.\u001b[39mscoring, \u001b[38;5;28mstr\u001b[39m):\n\u001b[1;32m--> 793\u001b[0m     scorers \u001b[38;5;241m=\u001b[39m \u001b[43mcheck_scoring\u001b[49m\u001b[43m(\u001b[49m\u001b[38;5;28;43mself\u001b[39;49m\u001b[38;5;241;43m.\u001b[39;49m\u001b[43mestimator\u001b[49m\u001b[43m,\u001b[49m\u001b[43m \u001b[49m\u001b[38;5;28;43mself\u001b[39;49m\u001b[38;5;241;43m.\u001b[39;49m\u001b[43mscoring\u001b[49m\u001b[43m)\u001b[49m\n\u001b[0;32m    794\u001b[0m \u001b[38;5;28;01melse\u001b[39;00m:\n\u001b[0;32m    795\u001b[0m     scorers \u001b[38;5;241m=\u001b[39m _check_multimetric_scoring(\u001b[38;5;28mself\u001b[39m\u001b[38;5;241m.\u001b[39mestimator, \u001b[38;5;28mself\u001b[39m\u001b[38;5;241m.\u001b[39mscoring)\n",
      "File \u001b[1;32m~\\anaconda3\\lib\\site-packages\\sklearn\\metrics\\_scorer.py:453\u001b[0m, in \u001b[0;36mcheck_scoring\u001b[1;34m(estimator, scoring, allow_none)\u001b[0m\n\u001b[0;32m    448\u001b[0m     \u001b[38;5;28;01mraise\u001b[39;00m \u001b[38;5;167;01mTypeError\u001b[39;00m(\n\u001b[0;32m    449\u001b[0m         \u001b[38;5;124m\"\u001b[39m\u001b[38;5;124mestimator should be an estimator implementing \u001b[39m\u001b[38;5;124m'\u001b[39m\u001b[38;5;124mfit\u001b[39m\u001b[38;5;124m'\u001b[39m\u001b[38;5;124m method, \u001b[39m\u001b[38;5;132;01m%r\u001b[39;00m\u001b[38;5;124m was passed\u001b[39m\u001b[38;5;124m\"\u001b[39m\n\u001b[0;32m    450\u001b[0m         \u001b[38;5;241m%\u001b[39m estimator\n\u001b[0;32m    451\u001b[0m     )\n\u001b[0;32m    452\u001b[0m \u001b[38;5;28;01mif\u001b[39;00m \u001b[38;5;28misinstance\u001b[39m(scoring, \u001b[38;5;28mstr\u001b[39m):\n\u001b[1;32m--> 453\u001b[0m     \u001b[38;5;28;01mreturn\u001b[39;00m \u001b[43mget_scorer\u001b[49m\u001b[43m(\u001b[49m\u001b[43mscoring\u001b[49m\u001b[43m)\u001b[49m\n\u001b[0;32m    454\u001b[0m \u001b[38;5;28;01melif\u001b[39;00m callable(scoring):\n\u001b[0;32m    455\u001b[0m     \u001b[38;5;66;03m# Heuristic to ensure user has not passed a metric\u001b[39;00m\n\u001b[0;32m    456\u001b[0m     module \u001b[38;5;241m=\u001b[39m \u001b[38;5;28mgetattr\u001b[39m(scoring, \u001b[38;5;124m\"\u001b[39m\u001b[38;5;124m__module__\u001b[39m\u001b[38;5;124m\"\u001b[39m, \u001b[38;5;28;01mNone\u001b[39;00m)\n",
      "File \u001b[1;32m~\\anaconda3\\lib\\site-packages\\sklearn\\metrics\\_scorer.py:406\u001b[0m, in \u001b[0;36mget_scorer\u001b[1;34m(scoring)\u001b[0m\n\u001b[0;32m    404\u001b[0m         scorer \u001b[38;5;241m=\u001b[39m SCORERS[scoring]\n\u001b[0;32m    405\u001b[0m     \u001b[38;5;28;01mexcept\u001b[39;00m \u001b[38;5;167;01mKeyError\u001b[39;00m:\n\u001b[1;32m--> 406\u001b[0m         \u001b[38;5;28;01mraise\u001b[39;00m \u001b[38;5;167;01mValueError\u001b[39;00m(\n\u001b[0;32m    407\u001b[0m             \u001b[38;5;124m\"\u001b[39m\u001b[38;5;132;01m%r\u001b[39;00m\u001b[38;5;124m is not a valid scoring value. \u001b[39m\u001b[38;5;124m\"\u001b[39m\n\u001b[0;32m    408\u001b[0m             \u001b[38;5;124m\"\u001b[39m\u001b[38;5;124mUse sorted(sklearn.metrics.SCORERS.keys()) \u001b[39m\u001b[38;5;124m\"\u001b[39m\n\u001b[0;32m    409\u001b[0m             \u001b[38;5;124m\"\u001b[39m\u001b[38;5;124mto get valid options.\u001b[39m\u001b[38;5;124m\"\u001b[39m \u001b[38;5;241m%\u001b[39m scoring\n\u001b[0;32m    410\u001b[0m         )\n\u001b[0;32m    411\u001b[0m \u001b[38;5;28;01melse\u001b[39;00m:\n\u001b[0;32m    412\u001b[0m     scorer \u001b[38;5;241m=\u001b[39m scoring\n",
      "\u001b[1;31mValueError\u001b[0m: 'mean_squared_error' is not a valid scoring value. Use sorted(sklearn.metrics.SCORERS.keys()) to get valid options."
     ]
    }
   ],
   "source": [
    "opt.fit(X_train, y_train)"
   ]
  },
  {
   "cell_type": "code",
   "execution_count": null,
   "id": "009af9a9",
   "metadata": {},
   "outputs": [],
   "source": [
    "#Evaluate the model and make predictions"
   ]
  },
  {
   "cell_type": "code",
   "execution_count": 35,
   "id": "b4258b70",
   "metadata": {},
   "outputs": [
    {
     "data": {
      "text/plain": [
       "Pipeline(steps=[('clf',\n",
       "                 XGBRegressor(base_score=None, booster=None, callbacks=None,\n",
       "                              colsample_bylevel=0.6854728136721551,\n",
       "                              colsample_bynode=0.9716292421559054,\n",
       "                              colsample_bytree=0.9999681720272138,\n",
       "                              early_stopping_rounds=None,\n",
       "                              enable_categorical=False, eval_metric=None,\n",
       "                              feature_types=None, gamma=9.269342703724346,\n",
       "                              gpu_id=None, grow_policy=None,\n",
       "                              importance_type=None,\n",
       "                              interaction_constraints=None,\n",
       "                              learning_rate=0.4165635668761467, max_bin=None,\n",
       "                              max_cat_threshold=None, max_cat_to_onehot=None,\n",
       "                              max_delta_step=None, max_depth=5, max_leaves=None,\n",
       "                              min_child_weight=None, missing=nan,\n",
       "                              monotone_constraints=None, n_estimators=100,\n",
       "                              n_jobs=None, num_parallel_tree=None,\n",
       "                              predictor=None, random_state=8, ...))])"
      ]
     },
     "execution_count": 35,
     "metadata": {},
     "output_type": "execute_result"
    }
   ],
   "source": [
    "opt.best_estimator_"
   ]
  },
  {
   "cell_type": "code",
   "execution_count": 36,
   "id": "e9ec24ee",
   "metadata": {},
   "outputs": [
    {
     "data": {
      "text/plain": [
       "-143.00791972587555"
      ]
     },
     "execution_count": 36,
     "metadata": {},
     "output_type": "execute_result"
    }
   ],
   "source": [
    "opt.best_score_"
   ]
  },
  {
   "cell_type": "code",
   "execution_count": 25,
   "id": "8439bb81",
   "metadata": {},
   "outputs": [
    {
     "data": {
      "text/plain": [
       "-7.917469684342692"
      ]
     },
     "execution_count": 25,
     "metadata": {},
     "output_type": "execute_result"
    }
   ],
   "source": [
    "opt.score(X_test.to_numpy(), y_test.to_numpy())"
   ]
  },
  {
   "cell_type": "code",
   "execution_count": 26,
   "id": "3441e90b",
   "metadata": {},
   "outputs": [
    {
     "data": {
      "text/plain": [
       "array([251.82414 , 213.03299 , 212.20334 , 179.61798 , 222.17757 ,\n",
       "       189.8933  , 229.28864 , 183.05191 , 198.1168  , 204.41254 ,\n",
       "       186.04352 , 170.07732 , 154.48155 , 164.18916 , 163.46346 ,\n",
       "       211.12349 , 198.88983 , 169.67668 , 163.50594 , 205.52733 ,\n",
       "       177.14865 , 183.68823 , 177.83635 , 134.97447 , 128.83424 ,\n",
       "       189.38808 , 135.62488 , 158.68575 , 122.07691 , 268.21637 ,\n",
       "       237.32942 , 213.44466 , 218.80188 , 255.30623 , 217.44482 ,\n",
       "       215.10684 , 227.17123 , 172.47452 , 176.47969 , 231.9087  ,\n",
       "       208.4778  , 169.41302 , 192.18837 , 225.12259 , 223.43666 ,\n",
       "       159.87743 , 158.10582 , 221.52217 , 179.09418 , 177.7584  ,\n",
       "       165.68819 , 165.87259 , 182.2558  , 159.20161 , 191.45694 ,\n",
       "       163.1379  , 210.30661 , 172.98422 , 169.95847 , 175.84363 ,\n",
       "       142.45761 , 152.84901 , 148.66771 , 123.49977 , 151.79555 ,\n",
       "       169.0583  , 155.02905 , 157.29372 , 118.39572 , 108.69871 ,\n",
       "       232.38167 , 228.9261  , 229.46643 , 200.1537  , 237.21407 ,\n",
       "       237.30568 , 193.74808 , 216.43233 , 242.34377 , 209.43756 ,\n",
       "       223.45459 , 201.77141 , 204.69624 , 207.40585 , 176.40552 ,\n",
       "       193.07413 , 171.6563  , 206.14279 , 204.72052 , 157.3189  ,\n",
       "       192.12732 , 193.02505 , 213.00372 , 198.69534 , 175.64339 ,\n",
       "       163.48451 , 171.59396 , 164.88005 , 201.20409 , 167.62636 ,\n",
       "       146.43275 , 178.38893 , 132.0718  , 197.21759 , 132.92975 ,\n",
       "       176.27222 , 122.361336, 238.5885  , 170.00432 , 221.62135 ,\n",
       "       181.41844 , 218.03607 , 199.5406  , 155.32265 , 209.20515 ,\n",
       "       185.82556 , 207.35345 , 161.96414 , 164.98277 , 176.69745 ,\n",
       "       180.40607 , 178.30292 , 166.60124 , 154.2212  , 206.11653 ,\n",
       "       214.61075 , 197.63812 , 178.04143 , 210.18842 , 174.09898 ,\n",
       "       192.5687  , 166.49287 , 152.95767 , 174.86836 , 163.1852  ,\n",
       "       164.51488 , 156.70056 , 160.83072 , 170.95036 , 214.38144 ,\n",
       "       240.07304 , 172.75429 , 194.70955 , 224.20422 , 226.80568 ,\n",
       "       195.42577 , 207.8272  , 168.44229 , 190.24757 , 173.32034 ,\n",
       "       171.55971 , 171.55579 , 171.41946 , 158.0507  , 159.32603 ,\n",
       "       185.25311 , 176.89354 , 178.18176 , 173.53546 , 159.02226 ,\n",
       "       163.56226 , 192.47478 , 175.00365 , 155.01753 , 123.63153 ,\n",
       "       161.56851 , 152.93185 , 224.20102 , 255.1374  , 195.02524 ,\n",
       "       261.40384 , 217.46075 , 207.76987 , 253.22133 , 232.65381 ,\n",
       "       239.2946  , 250.24763 , 224.55305 , 218.87198 , 237.67767 ,\n",
       "       206.02309 , 187.71458 , 229.65591 , 199.59956 , 213.45679 ,\n",
       "       242.91933 , 190.97667 , 188.27316 , 196.44624 , 189.25073 ,\n",
       "       173.14128 , 171.73006 , 195.02007 , 123.154594, 163.00069 ,\n",
       "       194.10646 , 172.94388 , 194.68486 , 152.56299 , 162.56944 ,\n",
       "       166.89822 , 174.36858 , 197.71881 , 159.50273 , 149.30595 ,\n",
       "       169.2865  , 159.64545 , 233.06526 , 242.56377 , 242.56377 ,\n",
       "       224.77547 , 161.663   , 188.73183 , 153.6898  , 180.5705  ,\n",
       "       153.20593 , 144.50201 , 124.4932  , 150.67702 , 134.73201 ,\n",
       "       126.76146 , 147.27615 , 134.32397 , 122.94452 , 115.1753  ,\n",
       "       121.716705, 200.26688 , 216.1201  , 207.99037 , 206.93549 ,\n",
       "       242.35295 , 189.89668 , 194.53925 , 199.4823  , 224.39531 ,\n",
       "       191.05185 , 181.70988 , 175.58469 , 185.59532 , 192.06398 ,\n",
       "       154.99501 , 152.02191 , 209.52042 , 248.03358 , 191.06949 ,\n",
       "       256.32156 , 194.83495 , 203.28503 , 171.99564 , 202.05608 ,\n",
       "       199.03577 , 199.82239 , 204.62321 , 167.63327 , 188.46025 ,\n",
       "       194.4337  , 169.12552 , 209.79964 , 199.30452 , 128.52943 ,\n",
       "       156.1546  , 121.64321 , 125.783585, 138.24438 , 161.51549 ,\n",
       "       117.50474 ], dtype=float32)"
      ]
     },
     "execution_count": 26,
     "metadata": {},
     "output_type": "execute_result"
    }
   ],
   "source": [
    "opt.predict(X_test.to_numpy())"
   ]
  },
  {
   "cell_type": "code",
   "execution_count": null,
   "id": "a5c6db1e",
   "metadata": {},
   "outputs": [],
   "source": [
    "#Measure feature importance "
   ]
  },
  {
   "cell_type": "code",
   "execution_count": 30,
   "id": "28e02496",
   "metadata": {},
   "outputs": [
    {
     "data": {
      "text/plain": [
       "[('clf',\n",
       "  XGBRegressor(base_score=None, booster=None, callbacks=None,\n",
       "               colsample_bylevel=0.6854728136721551,\n",
       "               colsample_bynode=0.9716292421559054,\n",
       "               colsample_bytree=0.9999681720272138, early_stopping_rounds=None,\n",
       "               enable_categorical=False, eval_metric=None, feature_types=None,\n",
       "               gamma=9.269342703724346, gpu_id=None, grow_policy=None,\n",
       "               importance_type=None, interaction_constraints=None,\n",
       "               learning_rate=0.4165635668761467, max_bin=None,\n",
       "               max_cat_threshold=None, max_cat_to_onehot=None,\n",
       "               max_delta_step=None, max_depth=5, max_leaves=None,\n",
       "               min_child_weight=None, missing=nan, monotone_constraints=None,\n",
       "               n_estimators=100, n_jobs=None, num_parallel_tree=None,\n",
       "               predictor=None, random_state=8, ...))]"
      ]
     },
     "execution_count": 30,
     "metadata": {},
     "output_type": "execute_result"
    }
   ],
   "source": [
    "opt.best_estimator_.steps"
   ]
  },
  {
   "cell_type": "code",
   "execution_count": 32,
   "id": "9ca427c5",
   "metadata": {},
   "outputs": [
    {
     "data": {
      "text/plain": [
       "<AxesSubplot:title={'center':'Feature importance'}, xlabel='F score', ylabel='Features'>"
      ]
     },
     "execution_count": 32,
     "metadata": {},
     "output_type": "execute_result"
    },
    {
     "data": {
      "image/png": "[encoded data removed]",
      "text/plain": [
       "<Figure size 640x480 with 1 Axes>"
      ]
     },
     "metadata": {},
     "output_type": "display_data"
    }
   ],
   "source": [
    "from xgboost import plot_importance\n",
    "\n",
    "xgboost_step = opt.best_estimator_.steps[0]\n",
    "xgboost_model = xgboost_step[1]\n",
    "plot_importance(xgboost_model)"
   ]
  },
  {
   "cell_type": "code",
   "execution_count": null,
   "id": "4e22e9d6",
   "metadata": {},
   "outputs": [],
   "source": []
  }
 ],
 "metadata": {
  "kernelspec": {
   "display_name": "Python 3 (ipykernel)",
   "language": "python",
   "name": "python3"
  },
  "language_info": {
   "codemirror_mode": {
    "name": "ipython",
    "version": 3
   },
   "file_extension": ".py",
   "mimetype": "text/x-python",
   "name": "python",
   "nbconvert_exporter": "python",
   "pygments_lexer": "ipython3",
   "version": "3.9.7"
  }
 },
 "nbformat": 4,
 "nbformat_minor": 5
}
