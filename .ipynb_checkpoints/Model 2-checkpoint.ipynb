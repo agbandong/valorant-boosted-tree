{
 "cells": [
  {
   "cell_type": "code",
   "execution_count": 43,
   "id": "8e13d24e",
   "metadata": {},
   "outputs": [],
   "source": [
    "import pandas as pd\n",
    "import numpy as np\n",
    "import pickle\n",
    "from xgboost import XGBRegressor\n",
    "from sklearn.metrics import mean_squared_error\n",
    "from datetime import datetime"
   ]
  },
  {
   "cell_type": "code",
   "execution_count": 2,
   "id": "98fc06d6",
   "metadata": {},
   "outputs": [],
   "source": [
    "# Load the data\n",
    "dateparse = lambda x: datetime.strptime(x, '%Y/%m/%d') if isinstance(x, str) else x\n",
    "data = pd.read_excel('Signed Players Dataset VALORANT VCT DATASET.xlsx', parse_dates=['date'], date_parser=dateparse)\n",
    "test_data = pd.read_excel('Test Dataset VALORANT VCT DATASET.xlsx', parse_dates=['date'], date_parser=dateparse).dropna(how='any',axis=0)"
   ]
  },
  {
   "cell_type": "code",
   "execution_count": 3,
   "id": "4b93dc55",
   "metadata": {},
   "outputs": [],
   "source": [
    "# Select features and target variable\n",
    "inputs = ['date', 'player']\n",
    "features = ['kills_per_round', 'assists_per_round',\n",
    "            'first_kills_per_round', 'first_deaths_per_round', 'headshot_percentage',\n",
    "            'clutch_success_percentage', 'total_kills', 'total_deaths', 'total_assists',\n",
    "            'total_first_kills', 'total_first_deaths']\n",
    "target_variable = 'average_combat_score'\n",
    "#Note: create models w/ target variable for rounds and rating"
   ]
  },
  {
   "cell_type": "code",
   "execution_count": 4,
   "id": "c58180d1",
   "metadata": {},
   "outputs": [],
   "source": [
    "# Split variables\n",
    "X_train = data[features]\n",
    "X_test = test_data[features]\n",
    "y_train = data[target_variable]\n",
    "y_test = test_data[target_variable]"
   ]
  },
  {
   "cell_type": "code",
   "execution_count": 5,
   "id": "a85d7616",
   "metadata": {},
   "outputs": [],
   "source": [
    "data = data.replace('\\n','', regex=True)\n",
    "data = data.replace(' ','', regex=True)\n",
    "test_data = test_data.replace('\\n','', regex=True)\n",
    "test_data = test_data.replace(' ','', regex=True)"
   ]
  },
  {
   "cell_type": "code",
   "execution_count": 6,
   "id": "69a82b1b",
   "metadata": {
    "scrolled": false
   },
   "outputs": [],
   "source": [
    "dates = data['date'].unique()"
   ]
  },
  {
   "cell_type": "code",
   "execution_count": 8,
   "id": "cfaee2f7",
   "metadata": {},
   "outputs": [
    {
     "data": {
      "text/plain": [
       "array(['2022-10-07T00:00:00.000000000', '2022-08-31T00:00:00.000000000',\n",
       "       '2023-02-13T00:00:00.000000000', '2021-09-19T00:00:00.000000000',\n",
       "       '2023-11-06T00:00:00.000000000', '2023-06-08T00:00:00.000000000',\n",
       "       '2021-12-12T00:00:00.000000000', '2021-05-30T00:00:00.000000000',\n",
       "       '2022-10-04T00:00:00.000000000'], dtype='datetime64[ns]')"
      ]
     },
     "execution_count": 8,
     "metadata": {},
     "output_type": "execute_result"
    }
   ],
   "source": [
    "data['date'].unique()"
   ]
  },
  {
   "cell_type": "code",
   "execution_count": 14,
   "id": "929332de",
   "metadata": {
    "scrolled": true
   },
   "outputs": [
    {
     "data": {
      "text/plain": [
       "array(['2021-05-30T00:00:00.000000000', '2021-09-19T00:00:00.000000000',\n",
       "       '2021-12-12T00:00:00.000000000', '2022-10-04T00:00:00.000000000',\n",
       "       '2022-10-07T00:00:00.000000000', '2022-08-31T00:00:00.000000000',\n",
       "       '2023-02-13T00:00:00.000000000', '2023-11-06T00:00:00.000000000',\n",
       "       '2023-06-08T00:00:00.000000000'], dtype='datetime64[ns]')"
      ]
     },
     "execution_count": 14,
     "metadata": {},
     "output_type": "execute_result"
    }
   ],
   "source": [
    "test_data['date'].unique()"
   ]
  },
  {
   "cell_type": "code",
   "execution_count": 7,
   "id": "001fd4c0",
   "metadata": {},
   "outputs": [],
   "source": [
    "def diff_month(d1, d2):\n",
    "    return (d1.year - d2.year) * 12 + d1.month - d2.month\n",
    "\n",
    "def months_from_2021(dates):\n",
    "    months_from_Jan_2021 = []\n",
    "    for date in dates:\n",
    "        months_from_Jan_2021.append(diff_month(date, datetime.strptime('2021/01/01', '%Y/%m/%d')))\n",
    "    return months_from_Jan_2021"
   ]
  },
  {
   "cell_type": "code",
   "execution_count": 8,
   "id": "abc71b0f",
   "metadata": {
    "scrolled": true
   },
   "outputs": [],
   "source": [
    "data = data.assign(months_from_Jan_2021 = months_from_2021(data['date']))"
   ]
  },
  {
   "cell_type": "code",
   "execution_count": 9,
   "id": "fbb7f826",
   "metadata": {
    "scrolled": false
   },
   "outputs": [],
   "source": [
    "players = data['player'].unique()"
   ]
  },
  {
   "cell_type": "code",
   "execution_count": 34,
   "id": "21476062",
   "metadata": {
    "scrolled": false
   },
   "outputs": [],
   "source": [
    "player_data = data.loc[data['player'] == 'Cryocells']"
   ]
  },
  {
   "cell_type": "code",
   "execution_count": 35,
   "id": "776068f1",
   "metadata": {
    "scrolled": false
   },
   "outputs": [
    {
     "data": {
      "text/plain": [
       "0    21\n",
       "1    19\n",
       "2    25\n",
       "Name: months_from_Jan_2021, dtype: int64"
      ]
     },
     "execution_count": 35,
     "metadata": {},
     "output_type": "execute_result"
    }
   ],
   "source": [
    "player_data['months_from_Jan_2021']"
   ]
  },
  {
   "cell_type": "code",
   "execution_count": 28,
   "id": "2d71996f",
   "metadata": {},
   "outputs": [
    {
     "data": {
      "text/plain": [
       "0    0.89\n",
       "1    0.85\n",
       "2    0.75\n",
       "Name: kills_per_round, dtype: float64"
      ]
     },
     "execution_count": 28,
     "metadata": {},
     "output_type": "execute_result"
    }
   ],
   "source": [
    "player_data['kills_per_round']"
   ]
  },
  {
   "cell_type": "code",
   "execution_count": 76,
   "id": "00b9036a",
   "metadata": {},
   "outputs": [
    {
     "data": {
      "text/plain": [
       "array([0.89, 0.85, 0.75])"
      ]
     },
     "execution_count": 76,
     "metadata": {},
     "output_type": "execute_result"
    }
   ],
   "source": [
    "player_data['kills_per_round'].values"
   ]
  },
  {
   "cell_type": "code",
   "execution_count": 36,
   "id": "4943a414",
   "metadata": {},
   "outputs": [],
   "source": [
    "test_model = XGBRegressor().fit(player_data['months_from_Jan_2021'].values[:,np.newaxis], player_data['kills_per_round'].values)"
   ]
  },
  {
   "cell_type": "code",
   "execution_count": null,
   "id": "9b7c8e82",
   "metadata": {},
   "outputs": [],
   "source": []
  },
  {
   "cell_type": "code",
   "execution_count": 10,
   "id": "c9d939c5",
   "metadata": {},
   "outputs": [],
   "source": [
    "#Create regression model for each feature for each players\n",
    "player_feature_models = {}\n",
    "for player in players:\n",
    "    player_feature_model = {}\n",
    "    player_data = data.loc[data['player'] == player]\n",
    "    for feature in features:\n",
    "        feature_model = XGBRegressor().fit(player_data['months_from_Jan_2021'].values[:,np.newaxis], player_data[feature])\n",
    "        player_feature_model.update({feature:feature_model})\n",
    "    player_feature_models.update({player:player_feature_model})"
   ]
  },
  {
   "cell_type": "code",
   "execution_count": 44,
   "id": "ddc0ca22",
   "metadata": {},
   "outputs": [],
   "source": [
    "#Save Models\n",
    "\n",
    "filename = 'player_feature_models.sav'\n",
    "pickle.dump(player_feature_models, open(filename, 'wb'))"
   ]
  },
  {
   "cell_type": "code",
   "execution_count": 11,
   "id": "36b9eea7",
   "metadata": {
    "scrolled": true
   },
   "outputs": [
    {
     "data": {
      "text/plain": [
       "XGBRegressor(base_score=None, booster=None, callbacks=None,\n",
       "             colsample_bylevel=None, colsample_bynode=None,\n",
       "             colsample_bytree=None, early_stopping_rounds=None,\n",
       "             enable_categorical=False, eval_metric=None, feature_types=None,\n",
       "             gamma=None, gpu_id=None, grow_policy=None, importance_type=None,\n",
       "             interaction_constraints=None, learning_rate=None, max_bin=None,\n",
       "             max_cat_threshold=None, max_cat_to_onehot=None,\n",
       "             max_delta_step=None, max_depth=None, max_leaves=None,\n",
       "             min_child_weight=None, missing=nan, monotone_constraints=None,\n",
       "             n_estimators=100, n_jobs=None, num_parallel_tree=None,\n",
       "             predictor=None, random_state=None, ...)"
      ]
     },
     "execution_count": 11,
     "metadata": {},
     "output_type": "execute_result"
    }
   ],
   "source": [
    "player_feature_models.get('Cryocells').get('kills_per_round')"
   ]
  },
  {
   "cell_type": "code",
   "execution_count": null,
   "id": "4c0c92b4",
   "metadata": {},
   "outputs": [],
   "source": []
  },
  {
   "cell_type": "code",
   "execution_count": 18,
   "id": "079172bd",
   "metadata": {},
   "outputs": [],
   "source": [
    "#Load models\n",
    "\n",
    "filename = 'player_feature_models.sav'\n",
    "filename1 = 'model.sav'\n",
    "filename2 = 'model w tuning.sav'\n",
    "\n",
    "model = pickle.load(open(filename1, 'rb'))\n",
    "opt = pickle.load(open(filename2, 'rb'))\n",
    "player_feature_models = pickle.load(filename, 'rb')"
   ]
  },
  {
   "cell_type": "code",
   "execution_count": null,
   "id": "8f9765e1",
   "metadata": {},
   "outputs": [],
   "source": []
  },
  {
   "cell_type": "code",
   "execution_count": 41,
   "id": "73caf728",
   "metadata": {
    "scrolled": false
   },
   "outputs": [],
   "source": [
    "#Player predict values get\n",
    "def predict_players_values(players_and_dates):\n",
    "    player_predicted_values = {}\n",
    "    for feature in features:\n",
    "        player_values = []\n",
    "        for player_and_date in players_and_dates:\n",
    "            date = [dateparse(player_and_date[1])]\n",
    "            date_from_Jan_2021 = months_from_2021(date)\n",
    "            player_values.append(player_feature_models.get(player_and_date[0]).get(feature).predict(np.array([date_from_Jan_2021]))[0])\n",
    "        player_predicted_values.update({feature: player_values})\n",
    "    return pd.DataFrame(player_predicted_values)"
   ]
  },
  {
   "cell_type": "code",
   "execution_count": null,
   "id": "096f8782",
   "metadata": {},
   "outputs": [],
   "source": []
  },
  {
   "cell_type": "code",
   "execution_count": 71,
   "id": "deb1824f",
   "metadata": {
    "scrolled": true
   },
   "outputs": [],
   "source": [
    "player_predict_values_pd = pd.DataFrame(player_predict_values)"
   ]
  },
  {
   "cell_type": "code",
   "execution_count": 58,
   "id": "09b8f3da",
   "metadata": {
    "scrolled": true
   },
   "outputs": [],
   "source": [
    "#Predict ACS\n",
    "def predictACS(players_and_dates):\n",
    "    return opt.predict(predict_players_values(players_and_dates))"
   ]
  },
  {
   "cell_type": "code",
   "execution_count": 62,
   "id": "b41bf54b",
   "metadata": {},
   "outputs": [
    {
     "data": {
      "text/plain": [
       "array([216.1792], dtype=float32)"
      ]
     },
     "execution_count": 62,
     "metadata": {},
     "output_type": "execute_result"
    }
   ],
   "source": [
    "predictACS([['Cryocells', '2024/1/23']])"
   ]
  },
  {
   "cell_type": "code",
   "execution_count": 66,
   "id": "161b5610",
   "metadata": {},
   "outputs": [],
   "source": [
    "#Get ACS of players at next tourney date\n",
    "next_tourney_date = '2024/1/23'\n",
    "player_date = []\n",
    "for player in players:\n",
    "    player_date.append([player, next_tourney_date])\n",
    "predictions = predictACS(player_date)"
   ]
  },
  {
   "cell_type": "code",
   "execution_count": 67,
   "id": "2cda8d48",
   "metadata": {},
   "outputs": [
    {
     "data": {
      "text/plain": [
       "array([216.1792  , 209.28769 , 193.39705 , 221.84291 , 236.8729  ,\n",
       "       171.35114 , 212.22661 , 153.8106  , 172.97282 , 255.79715 ,\n",
       "       157.89622 , 141.90395 , 256.53033 , 238.19562 , 192.07802 ,\n",
       "       240.43393 , 218.96324 , 137.93272 , 199.37138 , 171.31079 ,\n",
       "       162.63625 , 169.20831 , 202.96542 , 230.54277 , 164.556   ,\n",
       "       210.21294 , 170.71477 , 216.59006 , 195.77443 , 224.34409 ,\n",
       "       136.47395 , 191.80576 , 176.01543 , 198.21962 , 195.44191 ,\n",
       "       201.40059 , 225.00537 , 173.35925 , 162.51868 , 178.01234 ,\n",
       "       200.35057 , 191.07172 , 238.62654 , 171.48116 , 236.55756 ,\n",
       "       234.65024 , 205.5705  , 239.55046 , 183.89159 , 175.73378 ,\n",
       "       205.40749 , 249.87735 , 187.92136 , 215.65076 , 230.4193  ,\n",
       "       140.44354 , 154.82271 , 266.50122 , 188.34825 , 179.7715  ,\n",
       "       182.96422 , 268.56815 , 159.71199 , 121.35794 , 123.30832 ,\n",
       "       162.89153 , 166.68619 , 198.10059 , 197.98956 , 212.97049 ,\n",
       "       147.63109 , 212.11493 , 179.05429 , 214.49107 , 196.28528 ,\n",
       "       174.20984 , 160.76642 , 228.84612 , 156.9007  , 239.42548 ,\n",
       "       153.59729 , 188.54597 , 157.84056 , 161.85162 , 162.07492 ,\n",
       "       157.16408 , 239.88097 , 196.68394 , 208.93399 , 208.9127  ,\n",
       "       237.66963 , 221.37096 , 198.26706 , 205.07295 , 167.36131 ,\n",
       "       138.7151  , 169.39502 , 229.90111 , 191.32144 , 213.14963 ,\n",
       "       213.00462 , 178.5322  , 247.49527 , 122.418465, 171.95853 ,\n",
       "       178.14093 , 200.39915 , 177.10614 , 215.4597  , 157.96486 ,\n",
       "       185.44894 , 188.72044 , 237.17409 , 179.43922 , 169.3275  ,\n",
       "       174.85423 , 259.07172 , 199.83493 , 251.54182 , 167.71281 ,\n",
       "       129.06082 , 201.22182 , 210.62239 , 206.9314  ], dtype=float32)"
      ]
     },
     "execution_count": 67,
     "metadata": {},
     "output_type": "execute_result"
    }
   ],
   "source": [
    "predictions"
   ]
  },
  {
   "cell_type": "code",
   "execution_count": 68,
   "id": "17308afa",
   "metadata": {},
   "outputs": [],
   "source": [
    "players_predictions = {'Players':players, 'Predictions':predictions}\n",
    "players_predictions_pd = pd.DataFrame(players_predictions)"
   ]
  },
  {
   "cell_type": "code",
   "execution_count": 69,
   "id": "4c00cc80",
   "metadata": {},
   "outputs": [
    {
     "data": {
      "text/html": [
       "<div>\n",
       "<style scoped>\n",
       "    .dataframe tbody tr th:only-of-type {\n",
       "        vertical-align: middle;\n",
       "    }\n",
       "\n",
       "    .dataframe tbody tr th {\n",
       "        vertical-align: top;\n",
       "    }\n",
       "\n",
       "    .dataframe thead th {\n",
       "        text-align: right;\n",
       "    }\n",
       "</style>\n",
       "<table border=\"1\" class=\"dataframe\">\n",
       "  <thead>\n",
       "    <tr style=\"text-align: right;\">\n",
       "      <th></th>\n",
       "      <th>Players</th>\n",
       "      <th>Predictions</th>\n",
       "    </tr>\n",
       "  </thead>\n",
       "  <tbody>\n",
       "    <tr>\n",
       "      <th>0</th>\n",
       "      <td>Cryocells</td>\n",
       "      <td>216.179199</td>\n",
       "    </tr>\n",
       "    <tr>\n",
       "      <th>1</th>\n",
       "      <td>bang</td>\n",
       "      <td>209.287689</td>\n",
       "    </tr>\n",
       "    <tr>\n",
       "      <th>2</th>\n",
       "      <td>Asuna</td>\n",
       "      <td>193.397049</td>\n",
       "    </tr>\n",
       "    <tr>\n",
       "      <th>3</th>\n",
       "      <td>Boostio</td>\n",
       "      <td>221.842911</td>\n",
       "    </tr>\n",
       "    <tr>\n",
       "      <th>4</th>\n",
       "      <td>Xeppaa</td>\n",
       "      <td>236.872894</td>\n",
       "    </tr>\n",
       "    <tr>\n",
       "      <th>...</th>\n",
       "      <td>...</td>\n",
       "      <td>...</td>\n",
       "    </tr>\n",
       "    <tr>\n",
       "      <th>119</th>\n",
       "      <td>Laz</td>\n",
       "      <td>167.712814</td>\n",
       "    </tr>\n",
       "    <tr>\n",
       "      <th>120</th>\n",
       "      <td>SugarZ3ro</td>\n",
       "      <td>129.060822</td>\n",
       "    </tr>\n",
       "    <tr>\n",
       "      <th>121</th>\n",
       "      <td>sScary</td>\n",
       "      <td>201.221817</td>\n",
       "    </tr>\n",
       "    <tr>\n",
       "      <th>122</th>\n",
       "      <td>yay</td>\n",
       "      <td>210.622391</td>\n",
       "    </tr>\n",
       "    <tr>\n",
       "      <th>123</th>\n",
       "      <td>hoody</td>\n",
       "      <td>206.931396</td>\n",
       "    </tr>\n",
       "  </tbody>\n",
       "</table>\n",
       "<p>124 rows × 2 columns</p>\n",
       "</div>"
      ],
      "text/plain": [
       "       Players  Predictions\n",
       "0    Cryocells   216.179199\n",
       "1         bang   209.287689\n",
       "2        Asuna   193.397049\n",
       "3      Boostio   221.842911\n",
       "4       Xeppaa   236.872894\n",
       "..         ...          ...\n",
       "119        Laz   167.712814\n",
       "120  SugarZ3ro   129.060822\n",
       "121     sScary   201.221817\n",
       "122        yay   210.622391\n",
       "123      hoody   206.931396\n",
       "\n",
       "[124 rows x 2 columns]"
      ]
     },
     "execution_count": 69,
     "metadata": {},
     "output_type": "execute_result"
    }
   ],
   "source": [
    "players_predictions_pd"
   ]
  },
  {
   "cell_type": "code",
   "execution_count": 74,
   "id": "ce61e947",
   "metadata": {},
   "outputs": [
    {
     "data": {
      "text/html": [
       "<div>\n",
       "<style scoped>\n",
       "    .dataframe tbody tr th:only-of-type {\n",
       "        vertical-align: middle;\n",
       "    }\n",
       "\n",
       "    .dataframe tbody tr th {\n",
       "        vertical-align: top;\n",
       "    }\n",
       "\n",
       "    .dataframe thead th {\n",
       "        text-align: right;\n",
       "    }\n",
       "</style>\n",
       "<table border=\"1\" class=\"dataframe\">\n",
       "  <thead>\n",
       "    <tr style=\"text-align: right;\">\n",
       "      <th></th>\n",
       "      <th>Players</th>\n",
       "      <th>Predictions</th>\n",
       "    </tr>\n",
       "  </thead>\n",
       "  <tbody>\n",
       "    <tr>\n",
       "      <th>61</th>\n",
       "      <td>trexx</td>\n",
       "      <td>268.568146</td>\n",
       "    </tr>\n",
       "    <tr>\n",
       "      <th>57</th>\n",
       "      <td>Nivera</td>\n",
       "      <td>266.501221</td>\n",
       "    </tr>\n",
       "    <tr>\n",
       "      <th>116</th>\n",
       "      <td>JessieVash</td>\n",
       "      <td>259.071716</td>\n",
       "    </tr>\n",
       "    <tr>\n",
       "      <th>12</th>\n",
       "      <td>keznit</td>\n",
       "      <td>256.530334</td>\n",
       "    </tr>\n",
       "    <tr>\n",
       "      <th>9</th>\n",
       "      <td>mwzera</td>\n",
       "      <td>255.797150</td>\n",
       "    </tr>\n",
       "    <tr>\n",
       "      <th>...</th>\n",
       "      <td>...</td>\n",
       "      <td>...</td>\n",
       "    </tr>\n",
       "    <tr>\n",
       "      <th>30</th>\n",
       "      <td>zekken</td>\n",
       "      <td>136.473953</td>\n",
       "    </tr>\n",
       "    <tr>\n",
       "      <th>120</th>\n",
       "      <td>SugarZ3ro</td>\n",
       "      <td>129.060822</td>\n",
       "    </tr>\n",
       "    <tr>\n",
       "      <th>64</th>\n",
       "      <td>starxo</td>\n",
       "      <td>123.308319</td>\n",
       "    </tr>\n",
       "    <tr>\n",
       "      <th>103</th>\n",
       "      <td>2ge</td>\n",
       "      <td>122.418465</td>\n",
       "    </tr>\n",
       "    <tr>\n",
       "      <th>63</th>\n",
       "      <td>koldamenta</td>\n",
       "      <td>121.357941</td>\n",
       "    </tr>\n",
       "  </tbody>\n",
       "</table>\n",
       "<p>124 rows × 2 columns</p>\n",
       "</div>"
      ],
      "text/plain": [
       "        Players  Predictions\n",
       "61        trexx   268.568146\n",
       "57       Nivera   266.501221\n",
       "116  JessieVash   259.071716\n",
       "12       keznit   256.530334\n",
       "9        mwzera   255.797150\n",
       "..          ...          ...\n",
       "30       zekken   136.473953\n",
       "120   SugarZ3ro   129.060822\n",
       "64       starxo   123.308319\n",
       "103         2ge   122.418465\n",
       "63   koldamenta   121.357941\n",
       "\n",
       "[124 rows x 2 columns]"
      ]
     },
     "execution_count": 74,
     "metadata": {},
     "output_type": "execute_result"
    }
   ],
   "source": [
    "players_predictions_pd.sort_values('Predictions', ascending=False)"
   ]
  },
  {
   "cell_type": "code",
   "execution_count": null,
   "id": "2c13f6cb",
   "metadata": {},
   "outputs": [],
   "source": []
  }
 ],
 "metadata": {
  "kernelspec": {
   "display_name": "Python 3 (ipykernel)",
   "language": "python",
   "name": "python3"
  },
  "language_info": {
   "codemirror_mode": {
    "name": "ipython",
    "version": 3
   },
   "file_extension": ".py",
   "mimetype": "text/x-python",
   "name": "python",
   "nbconvert_exporter": "python",
   "pygments_lexer": "ipython3",
   "version": "3.9.7"
  }
 },
 "nbformat": 4,
 "nbformat_minor": 5
}
