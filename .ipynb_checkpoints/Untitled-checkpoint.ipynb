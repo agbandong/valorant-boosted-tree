{
 "cells": [
  {
   "cell_type": "code",
   "execution_count": null,
   "id": "690ee9ad",
   "metadata": {},
   "outputs": [],
   "source": []
  },
  {
   "cell_type": "code",
   "execution_count": null,
   "id": "e7523b03",
   "metadata": {},
   "outputs": [],
   "source": [
    "target_variable2 = 'rating'\n",
    "y_train2 = data[target_variable2]\n",
    "y_test2 = test_data[target_variable2]"
   ]
  },
  {
   "cell_type": "code",
   "execution_count": null,
   "id": "f5a03aa1",
   "metadata": {},
   "outputs": [],
   "source": [
    "model2 = XGBRegressor()\n",
    "model2.fit(X_train, y_train2)"
   ]
  },
  {
   "cell_type": "code",
   "execution_count": null,
   "id": "0fe3c802",
   "metadata": {},
   "outputs": [],
   "source": [
    "# Make predictions on the test set\n",
    "y_pred = model2.predict(X_test.to_numpy())\n",
    "\n",
    "# Evaluate the model\n",
    "mse = mean_squared_error(y_test2, y_pred)\n",
    "print(f'Mean Squared Error: {mse}')"
   ]
  },
  {
   "cell_type": "code",
   "execution_count": null,
   "id": "7572f9ae",
   "metadata": {},
   "outputs": [],
   "source": [
    "plot_importance(model2)"
   ]
  }
 ],
 "metadata": {
  "kernelspec": {
   "display_name": "Python 3 (ipykernel)",
   "language": "python",
   "name": "python3"
  },
  "language_info": {
   "codemirror_mode": {
    "name": "ipython",
    "version": 3
   },
   "file_extension": ".py",
   "mimetype": "text/x-python",
   "name": "python",
   "nbconvert_exporter": "python",
   "pygments_lexer": "ipython3",
   "version": "3.9.7"
  }
 },
 "nbformat": 4,
 "nbformat_minor": 5
}
