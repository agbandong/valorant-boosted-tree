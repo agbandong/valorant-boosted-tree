{
 "cells": [
  {
   "cell_type": "code",
   "execution_count": 1,
   "id": "655bd15a",
   "metadata": {},
   "outputs": [],
   "source": [
    "import pandas as pd\n",
    "import numpy as np\n",
    "import pickle\n",
    "from xgboost import XGBRegressor\n",
    "from xgboost import plot_importance\n",
    "from sklearn.metrics import mean_squared_error\n",
    "from datetime import datetime"
   ]
  },
  {
   "cell_type": "code",
   "execution_count": null,
   "id": "d5fe0126",
   "metadata": {},
   "outputs": [],
   "source": [
    "#For parsing dates\n",
    "dateparse = lambda x: datetime.strptime(x, '%Y/%m/%d') if isinstance(x, str) else x"
   ]
  },
  {
   "cell_type": "code",
   "execution_count": 2,
   "id": "2f82db63",
   "metadata": {},
   "outputs": [],
   "source": [
    "# Load the data\n",
    "data = pd.read_excel('Signed Players Dataset VALORANT VCT DATASET.xlsx', parse_dates=['date'], date_parser=dateparse)\n",
    "test_data = pd.read_excel('Test Dataset VALORANT VCT DATASET.xlsx', parse_dates=['date'], date_parser=dateparse).dropna(how='any',axis=0)"
   ]
  },
  {
   "cell_type": "code",
   "execution_count": null,
   "id": "52dd6bdf",
   "metadata": {},
   "outputs": [],
   "source": [
    "# Fix name errors\n",
    "data = data.replace('\\n','', regex=True)\n",
    "data = data.replace(' ','', regex=True)\n",
    "test_data = test_data.replace('\\n','', regex=True)\n",
    "test_data = test_data.replace(' ','', regex=True)"
   ]
  },
  {
   "cell_type": "code",
   "execution_count": 3,
   "id": "b5bd734d",
   "metadata": {},
   "outputs": [],
   "source": [
    "# Select features and target variable\n",
    "inputs = ['date', 'player']\n",
    "features = ['kills_per_round', 'assists_per_round',\n",
    "            'first_kills_per_round', 'first_deaths_per_round', 'headshot_percentage',\n",
    "            'clutch_success_percentage', 'total_kills', 'total_deaths', 'total_assists',\n",
    "            'total_first_kills', 'total_first_deaths']\n",
    "# Note: Rounds are the number of rounds played. rating is similar to ACS. \n",
    "# Note: Model 2 is on rating\n",
    "# Note: Later check the relation on ACS and rating.\n",
    "target_variable = 'average_combat_score'"
   ]
  },
  {
   "cell_type": "code",
   "execution_count": 4,
   "id": "e0bce33b",
   "metadata": {},
   "outputs": [],
   "source": [
    "# Split variables\n",
    "X_train = data[features]\n",
    "X_test = test_data[features]\n",
    "y_train = data[target_variable]\n",
    "y_test = test_data[target_variable]"
   ]
  },
  {
   "cell_type": "code",
   "execution_count": 5,
   "id": "b46ca3a8",
   "metadata": {},
   "outputs": [],
   "source": [
    "# Initialize the XGBoost Regressor\n",
    "model = XGBRegressor()"
   ]
  },
  {
   "cell_type": "code",
   "execution_count": 6,
   "id": "152ab825",
   "metadata": {},
   "outputs": [
    {
     "data": {
      "text/plain": [
       "XGBRegressor(base_score=None, booster=None, callbacks=None,\n",
       "             colsample_bylevel=None, colsample_bynode=None,\n",
       "             colsample_bytree=None, early_stopping_rounds=None,\n",
       "             enable_categorical=False, eval_metric=None, feature_types=None,\n",
       "             gamma=None, gpu_id=None, grow_policy=None, importance_type=None,\n",
       "             interaction_constraints=None, learning_rate=None, max_bin=None,\n",
       "             max_cat_threshold=None, max_cat_to_onehot=None,\n",
       "             max_delta_step=None, max_depth=None, max_leaves=None,\n",
       "             min_child_weight=None, missing=nan, monotone_constraints=None,\n",
       "             n_estimators=100, n_jobs=None, num_parallel_tree=None,\n",
       "             predictor=None, random_state=None, ...)"
      ]
     },
     "execution_count": 6,
     "metadata": {},
     "output_type": "execute_result"
    }
   ],
   "source": [
    "# Train the model\n",
    "model.fit(X_train, y_train)"
   ]
  },
  {
   "cell_type": "code",
   "execution_count": 7,
   "id": "4f8576fe",
   "metadata": {},
   "outputs": [],
   "source": [
    "# Make predictions on the test set\n",
    "y_pred = model.predict(X_test.to_numpy())"
   ]
  },
  {
   "cell_type": "code",
   "execution_count": 8,
   "id": "dbd48892",
   "metadata": {
    "scrolled": true
   },
   "outputs": [
    {
     "name": "stdout",
     "output_type": "stream",
     "text": [
      "Mean Squared Error: 118.3393165808427\n"
     ]
    }
   ],
   "source": [
    "# Evaluate the model\n",
    "mse = mean_squared_error(y_test, y_pred)\n",
    "print(f'Mean Squared Error: {mse}')"
   ]
  },
  {
   "cell_type": "code",
   "execution_count": null,
   "id": "40e20e07",
   "metadata": {},
   "outputs": [],
   "source": []
  },
  {
   "cell_type": "code",
   "execution_count": 9,
   "id": "8dff79f0",
   "metadata": {},
   "outputs": [],
   "source": [
    "#With Hyperparameter tuning"
   ]
  },
  {
   "cell_type": "code",
   "execution_count": 10,
   "id": "647a75d5",
   "metadata": {},
   "outputs": [
    {
     "data": {
      "text/plain": [
       "Pipeline(steps=[('clf',\n",
       "                 XGBRegressor(base_score=None, booster=None, callbacks=None,\n",
       "                              colsample_bylevel=None, colsample_bynode=None,\n",
       "                              colsample_bytree=None, early_stopping_rounds=None,\n",
       "                              enable_categorical=False, eval_metric=None,\n",
       "                              feature_types=None, gamma=None, gpu_id=None,\n",
       "                              grow_policy=None, importance_type=None,\n",
       "                              interaction_constraints=None, learning_rate=None,\n",
       "                              max_bin=None, max_cat_threshold=None,\n",
       "                              max_cat_to_onehot=None, max_delta_step=None,\n",
       "                              max_depth=None, max_leaves=None,\n",
       "                              min_child_weight=None, missing=nan,\n",
       "                              monotone_constraints=None, n_estimators=100,\n",
       "                              n_jobs=None, num_parallel_tree=None,\n",
       "                              predictor=None, random_state=8, ...))])"
      ]
     },
     "execution_count": 10,
     "metadata": {},
     "output_type": "execute_result"
    }
   ],
   "source": [
    "from sklearn.pipeline import Pipeline\n",
    "\n",
    "estimators = [\n",
    "    ('clf', XGBRegressor(random_state=8)) # can customize objective function with the objective parameter\n",
    "]\n",
    "pipe = Pipeline(steps=estimators)\n",
    "pipe"
   ]
  },
  {
   "cell_type": "code",
   "execution_count": 11,
   "id": "64efa9fd",
   "metadata": {},
   "outputs": [],
   "source": [
    "#Set up hyperparameter tuning\n",
    "from skopt import BayesSearchCV\n",
    "from skopt.space import Real, Categorical, Integer\n",
    "\n",
    "search_space = {\n",
    "    'clf__max_depth': Integer(2,8),\n",
    "    'clf__learning_rate': Real(0.001, 1.0, prior='log-uniform'),\n",
    "    'clf__subsample': Real(0.5, 1.0),\n",
    "    'clf__colsample_bytree': Real(0.5, 1.0),\n",
    "    'clf__colsample_bylevel': Real(0.5, 1.0),\n",
    "    'clf__colsample_bynode' : Real(0.5, 1.0),\n",
    "    'clf__reg_alpha': Real(0.0, 10.0),\n",
    "    'clf__reg_lambda': Real(0.0, 10.0),\n",
    "    'clf__gamma': Real(0.0, 10.0)\n",
    "}\n",
    "\n",
    "opt = BayesSearchCV(pipe, search_space, cv=3, n_iter=10, scoring='neg_mean_squared_error', random_state=8) \n",
    "# in reality, you may consider setting cv and n_iter to higher values"
   ]
  },
  {
   "cell_type": "code",
   "execution_count": 12,
   "id": "0667b4a6",
   "metadata": {},
   "outputs": [],
   "source": [
    "#Train opt"
   ]
  },
  {
   "cell_type": "code",
   "execution_count": 13,
   "id": "ce41a7aa",
   "metadata": {},
   "outputs": [
    {
     "data": {
      "text/plain": [
       "BayesSearchCV(cv=3,\n",
       "              estimator=Pipeline(steps=[('clf',\n",
       "                                         XGBRegressor(base_score=None,\n",
       "                                                      booster=None,\n",
       "                                                      callbacks=None,\n",
       "                                                      colsample_bylevel=None,\n",
       "                                                      colsample_bynode=None,\n",
       "                                                      colsample_bytree=None,\n",
       "                                                      early_stopping_rounds=None,\n",
       "                                                      enable_categorical=False,\n",
       "                                                      eval_metric=None,\n",
       "                                                      feature_types=None,\n",
       "                                                      gamma=None, gpu_id=None,\n",
       "                                                      grow_policy=None,\n",
       "                                                      importance_type=None,\n",
       "                                                      interaction_constraints=N...\n",
       "                             'clf__learning_rate': Real(low=0.001, high=1.0, prior='log-uniform', transform='normalize'),\n",
       "                             'clf__max_depth': Integer(low=2, high=8, prior='uniform', transform='normalize'),\n",
       "                             'clf__reg_alpha': Real(low=0.0, high=10.0, prior='uniform', transform='normalize'),\n",
       "                             'clf__reg_lambda': Real(low=0.0, high=10.0, prior='uniform', transform='normalize'),\n",
       "                             'clf__subsample': Real(low=0.5, high=1.0, prior='uniform', transform='normalize')})"
      ]
     },
     "execution_count": 13,
     "metadata": {},
     "output_type": "execute_result"
    }
   ],
   "source": [
    "opt.fit(X_train, y_train)"
   ]
  },
  {
   "cell_type": "code",
   "execution_count": 14,
   "id": "009af9a9",
   "metadata": {},
   "outputs": [],
   "source": [
    "#Evaluate the model and make predictions"
   ]
  },
  {
   "cell_type": "code",
   "execution_count": 15,
   "id": "b4258b70",
   "metadata": {},
   "outputs": [
    {
     "data": {
      "text/plain": [
       "Pipeline(steps=[('clf',\n",
       "                 XGBRegressor(base_score=None, booster=None, callbacks=None,\n",
       "                              colsample_bylevel=0.6854728136721551,\n",
       "                              colsample_bynode=0.9716292421559054,\n",
       "                              colsample_bytree=0.9999681720272138,\n",
       "                              early_stopping_rounds=None,\n",
       "                              enable_categorical=False, eval_metric=None,\n",
       "                              feature_types=None, gamma=9.269342703724346,\n",
       "                              gpu_id=None, grow_policy=None,\n",
       "                              importance_type=None,\n",
       "                              interaction_constraints=None,\n",
       "                              learning_rate=0.4165635668761467, max_bin=None,\n",
       "                              max_cat_threshold=None, max_cat_to_onehot=None,\n",
       "                              max_delta_step=None, max_depth=5, max_leaves=None,\n",
       "                              min_child_weight=None, missing=nan,\n",
       "                              monotone_constraints=None, n_estimators=100,\n",
       "                              n_jobs=None, num_parallel_tree=None,\n",
       "                              predictor=None, random_state=8, ...))])"
      ]
     },
     "execution_count": 15,
     "metadata": {},
     "output_type": "execute_result"
    }
   ],
   "source": [
    "opt.best_estimator_"
   ]
  },
  {
   "cell_type": "code",
   "execution_count": 16,
   "id": "e9ec24ee",
   "metadata": {},
   "outputs": [
    {
     "data": {
      "text/plain": [
       "-131.05706118186242"
      ]
     },
     "execution_count": 16,
     "metadata": {},
     "output_type": "execute_result"
    }
   ],
   "source": [
    "opt.best_score_"
   ]
  },
  {
   "cell_type": "code",
   "execution_count": 17,
   "id": "8439bb81",
   "metadata": {},
   "outputs": [
    {
     "data": {
      "text/plain": [
       "-127.10713834367553"
      ]
     },
     "execution_count": 17,
     "metadata": {},
     "output_type": "execute_result"
    }
   ],
   "source": [
    "opt.score(X_test.to_numpy(), y_test.to_numpy())"
   ]
  },
  {
   "cell_type": "code",
   "execution_count": 18,
   "id": "3441e90b",
   "metadata": {
    "scrolled": true
   },
   "outputs": [
    {
     "data": {
      "text/plain": [
       "array([254.42873 , 212.09837 , 218.1927  , 208.56963 , 228.3574  ,\n",
       "       215.43321 , 215.26198 , 169.49954 , 173.76077 , 179.9206  ,\n",
       "       161.44316 , 197.22083 , 227.93306 , 211.85687 , 179.7797  ,\n",
       "       197.83789 , 190.51776 , 213.18146 , 190.53879 , 231.54448 ,\n",
       "       175.49069 , 189.85147 , 183.56317 , 170.33435 , 134.43822 ,\n",
       "       173.86542 , 122.11542 , 198.51373 , 204.37952 , 195.65332 ,\n",
       "       184.10667 , 166.86203 , 160.69846 , 155.22061 , 154.21378 ,\n",
       "       164.356   , 161.37546 , 235.9029  , 200.72717 , 169.53886 ,\n",
       "       159.02371 , 190.54295 , 227.39424 , 202.58533 , 171.10786 ,\n",
       "       156.59706 , 170.7071  , 176.22902 , 163.42322 , 180.76775 ,\n",
       "       157.53053 , 171.0814  , 206.12494 , 169.35413 , 224.52957 ,\n",
       "       178.22379 , 184.30243 , 177.65796 , 205.82133 , 201.21683 ,\n",
       "       198.885   , 191.58868 , 217.41531 , 104.62433 , 126.49459 ,\n",
       "       129.87862 , 203.39343 , 125.135704, 194.11925 , 199.45903 ,\n",
       "       107.188515, 156.04327 ,  99.38674 , 268.7676  , 248.7966  ,\n",
       "       236.97945 , 226.10762 , 161.24306 , 214.4235  , 214.84389 ,\n",
       "       212.58691 , 219.00601 , 256.4772  , 258.79877 , 226.98013 ,\n",
       "       231.15997 , 212.38744 , 176.28601 , 132.07973 , 173.64555 ,\n",
       "       222.82788 , 171.71371 , 144.53505 , 188.56583 , 163.58269 ,\n",
       "       146.84003 , 215.43857 , 192.2408  , 226.01872 , 155.75975 ,\n",
       "       132.18533 , 177.3025  , 168.6124  , 236.42577 , 174.8931  ,\n",
       "       165.33336 , 160.49057 , 131.0648  , 140.03172 ,  97.49896 ,\n",
       "       165.3475  , 187.25815 , 191.1154  , 159.67982 , 159.13461 ,\n",
       "       207.48624 , 175.25081 , 185.71379 , 207.19975 , 157.96024 ,\n",
       "       176.36221 , 157.74622 , 103.58436 , 154.2555  , 155.60129 ,\n",
       "       177.77325 , 166.69821 , 165.61559 , 163.32793 , 172.8965  ,\n",
       "       181.3385  , 164.27252 , 130.58904 , 148.83179 , 163.44443 ,\n",
       "       156.78387 , 201.22176 , 148.18742 , 185.2235  , 124.61631 ,\n",
       "        97.20997 , 224.77977 , 191.37067 , 201.4438  , 129.82452 ,\n",
       "       246.07933 , 127.85419 , 223.26564 , 239.13121 , 202.71747 ,\n",
       "       205.54596 , 185.78717 , 192.47353 , 172.29613 , 174.7328  ,\n",
       "       209.57661 , 172.54616 , 195.69711 , 141.91968 , 168.6856  ,\n",
       "       224.39755 , 190.8512  , 128.9479  , 155.03401 , 228.03424 ,\n",
       "       214.15085 , 218.82478 , 176.78253 , 179.6671  , 175.68076 ,\n",
       "       148.56633 , 208.77007 , 203.18872 , 202.03006 , 174.82341 ,\n",
       "       198.10907 , 184.12119 , 210.81325 , 173.98242 , 168.77957 ,\n",
       "       145.04224 , 158.87057 , 161.9794  , 169.32156 , 142.10854 ,\n",
       "       157.90034 , 168.03073 , 182.49368 , 158.98978 , 167.11063 ,\n",
       "       240.45793 , 168.60706 , 196.80469 , 189.74333 , 198.87115 ,\n",
       "       245.84982 , 251.51639 , 250.84627 , 222.11836 , 232.07544 ,\n",
       "       246.31229 , 227.15096 , 176.08421 , 208.55806 , 202.07799 ,\n",
       "       168.22897 , 163.09895 , 202.0399  , 173.26978 , 155.20253 ,\n",
       "       193.30313 , 166.38795 , 169.17068 , 166.01656 , 161.9827  ,\n",
       "       199.37953 , 191.37946 , 203.50006 , 158.7247  , 168.0388  ,\n",
       "       229.9877  , 172.13356 , 250.46404 , 273.31937 , 206.27924 ,\n",
       "       216.8905  , 189.84805 , 262.67535 , 242.12299 , 205.6996  ,\n",
       "       230.85335 , 226.62231 , 220.33873 , 236.33122 , 198.6697  ,\n",
       "       187.14546 , 200.97523 , 182.95895 , 182.95895 , 182.18648 ,\n",
       "       206.82753 , 173.41594 , 173.41594 , 205.75633 , 172.80162 ,\n",
       "       165.24487 , 152.26184 , 193.33287 , 245.03433 , 156.09146 ,\n",
       "       178.39569 , 204.48311 , 177.88208 , 160.94644 , 123.29364 ,\n",
       "       165.66124 , 158.58453 , 172.58736 , 163.68655 , 149.04138 ,\n",
       "       159.6531  , 155.10881 , 142.07307 , 214.13928 , 199.23882 ,\n",
       "       190.03769 , 160.10901 , 150.72093 , 259.27728 , 203.66382 ,\n",
       "       203.43729 , 196.68816 , 192.5565  , 150.49991 ], dtype=float32)"
      ]
     },
     "execution_count": 18,
     "metadata": {},
     "output_type": "execute_result"
    }
   ],
   "source": [
    "opt.predict(X_test.to_numpy())"
   ]
  },
  {
   "cell_type": "code",
   "execution_count": 19,
   "id": "a5c6db1e",
   "metadata": {},
   "outputs": [],
   "source": [
    "#Measure feature importance "
   ]
  },
  {
   "cell_type": "code",
   "execution_count": 20,
   "id": "28e02496",
   "metadata": {},
   "outputs": [
    {
     "data": {
      "text/plain": [
       "[('clf',\n",
       "  XGBRegressor(base_score=None, booster=None, callbacks=None,\n",
       "               colsample_bylevel=0.6854728136721551,\n",
       "               colsample_bynode=0.9716292421559054,\n",
       "               colsample_bytree=0.9999681720272138, early_stopping_rounds=None,\n",
       "               enable_categorical=False, eval_metric=None, feature_types=None,\n",
       "               gamma=9.269342703724346, gpu_id=None, grow_policy=None,\n",
       "               importance_type=None, interaction_constraints=None,\n",
       "               learning_rate=0.4165635668761467, max_bin=None,\n",
       "               max_cat_threshold=None, max_cat_to_onehot=None,\n",
       "               max_delta_step=None, max_depth=5, max_leaves=None,\n",
       "               min_child_weight=None, missing=nan, monotone_constraints=None,\n",
       "               n_estimators=100, n_jobs=None, num_parallel_tree=None,\n",
       "               predictor=None, random_state=8, ...))]"
      ]
     },
     "execution_count": 20,
     "metadata": {},
     "output_type": "execute_result"
    }
   ],
   "source": [
    "opt.best_estimator_.steps"
   ]
  },
  {
   "cell_type": "code",
   "execution_count": 21,
   "id": "9ca427c5",
   "metadata": {
    "scrolled": false
   },
   "outputs": [
    {
     "data": {
      "text/plain": [
       "<AxesSubplot:title={'center':'Feature importance'}, xlabel='F score', ylabel='Features'>"
      ]
     },
     "execution_count": 21,
     "metadata": {},
     "output_type": "execute_result"
    },
    {
     "data": {
      "image/png": "[encoded data removed]",
      "text/plain": [
       "<Figure size 640x480 with 1 Axes>"
      ]
     },
     "metadata": {},
     "output_type": "display_data"
    }
   ],
   "source": [
    "xgboost_step = opt.best_estimator_.steps[0]\n",
    "xgboost_model = xgboost_step[1]\n",
    "plot_importance(xgboost_model)"
   ]
  },
  {
   "cell_type": "code",
   "execution_count": 6,
   "id": "78a5a034",
   "metadata": {},
   "outputs": [],
   "source": [
    "filename1 = 'model.sav'\n",
    "filename2 = 'model w tuning.sav'"
   ]
  },
  {
   "cell_type": "code",
   "execution_count": 41,
   "id": "4e22e9d6",
   "metadata": {},
   "outputs": [],
   "source": [
    "#Save Model\n",
    "\n",
    "xgboost_step = opt.best_estimator_.steps[0]\n",
    "xgboost_model = xgboost_step[1]\n",
    "\n",
    "pickle.dump(model, open(filename1, 'wb'))\n",
    "pickle.dump(xgboost_model, open(filename2, 'wb'))"
   ]
  },
  {
   "cell_type": "code",
   "execution_count": 7,
   "id": "a94bad44",
   "metadata": {},
   "outputs": [],
   "source": [
    "#Load Model\n",
    "\n",
    "model = pickle.load(open(filename1, 'rb'))\n",
    "opt = pickle.load(open(filename2, 'rb'))"
   ]
  },
  {
   "cell_type": "code",
   "execution_count": null,
   "id": "f249b1f6",
   "metadata": {},
   "outputs": [],
   "source": []
  }
 ],
 "metadata": {
  "kernelspec": {
   "display_name": "Python 3 (ipykernel)",
   "language": "python",
   "name": "python3"
  },
  "language_info": {
   "codemirror_mode": {
    "name": "ipython",
    "version": 3
   },
   "file_extension": ".py",
   "mimetype": "text/x-python",
   "name": "python",
   "nbconvert_exporter": "python",
   "pygments_lexer": "ipython3",
   "version": "3.9.7"
  }
 },
 "nbformat": 4,
 "nbformat_minor": 5
}
