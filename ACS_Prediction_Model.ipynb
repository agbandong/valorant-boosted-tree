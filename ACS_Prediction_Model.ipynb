{
 "cells": [
  {
   "cell_type": "code",
   "execution_count": 15,
   "id": "8e13d24e",
   "metadata": {},
   "outputs": [],
   "source": [
    "import pandas as pd\n",
    "import numpy as np\n",
    "import pickle\n",
    "from xgboost import XGBRegressor\n",
    "from sklearn.metrics import mean_squared_error\n",
    "from datetime import datetime\n",
    "from sklearn.tree import DecisionTreeRegressor\n",
    "from sklearn.linear_model import LinearRegression\n",
    "import statsmodels.api as sm\n",
    "import matplotlib.pyplot as plt"
   ]
  },
  {
   "cell_type": "code",
   "execution_count": 2,
   "id": "757dc1bd",
   "metadata": {},
   "outputs": [],
   "source": [
    "dateparse = lambda x: datetime.strptime(x, '%Y/%m/%d') if isinstance(x, str) else x"
   ]
  },
  {
   "cell_type": "code",
   "execution_count": 3,
   "id": "98fc06d6",
   "metadata": {},
   "outputs": [],
   "source": [
    "# Load the data\n",
    "data = pd.read_excel('SignedPlayersDatasetVALORANT.xlsx', parse_dates=['date'], date_parser=dateparse)\n",
    "# Fix name errors\n",
    "data = data.replace('\\n','', regex=True)\n",
    "data = data.replace(' ','', regex=True)\n",
    "#test_data = pd.read_excel('Test Dataset VALORANT VCT DATASET.xlsx', parse_dates=['date'], date_parser=dateparse).dropna(how='any',axis=0)"
   ]
  },
  {
   "cell_type": "code",
   "execution_count": 4,
   "id": "4b93dc55",
   "metadata": {},
   "outputs": [],
   "source": [
    "# Select features and target variable\n",
    "input_features = ['date', 'player']\n",
    "features = ['kills_per_round', 'assists_per_round', 'average_damage_per_round',\n",
    "            'first_kills_per_round', 'first_deaths_per_round', 'headshot_percentage',\n",
    "            'clutch_success_percentage', 'total_kills', 'total_deaths', 'total_assists',\n",
    "            'total_first_kills', 'total_first_deaths']\n",
    "target_variable = 'average_combat_score'\n",
    "#Note: create models w/ target variable for rounds and rating"
   ]
  },
  {
   "cell_type": "code",
   "execution_count": 5,
   "id": "c58180d1",
   "metadata": {},
   "outputs": [],
   "source": [
    "\"\"\"\n",
    "# Split variables\n",
    "X_train = data[features]\n",
    "X_test = test_data[features]\n",
    "y_train = data[target_variable]\n",
    "y_test = test_data[target_variable]\n",
    "\"\"\"\n",
    "None"
   ]
  },
  {
   "cell_type": "code",
   "execution_count": 6,
   "id": "69a82b1b",
   "metadata": {
    "scrolled": false
   },
   "outputs": [],
   "source": [
    "# Get dates and players\n",
    "dates = data['date'].unique()\n",
    "players = data['player'].unique()"
   ]
  },
  {
   "cell_type": "code",
   "execution_count": 7,
   "id": "5624ace5",
   "metadata": {},
   "outputs": [],
   "source": [
    "# For getting difference in months\n",
    "def diff_month(d1, d2):\n",
    "    return (d1.year - d2.year) * 12 + d1.month - d2.month\n",
    "\n",
    "def months_from_2021(dates):\n",
    "    months_from_Jan_2021 = []\n",
    "    for date in dates:\n",
    "        months_from_Jan_2021.append(diff_month(date, datetime.strptime('2021/01/01', '%Y/%m/%d')))\n",
    "    return months_from_Jan_2021"
   ]
  },
  {
   "cell_type": "code",
   "execution_count": 8,
   "id": "abc71b0f",
   "metadata": {
    "scrolled": true
   },
   "outputs": [],
   "source": [
    "data = data.assign(months_from_Jan_2021 = months_from_2021(data['date']))"
   ]
  },
  {
   "cell_type": "code",
   "execution_count": null,
   "id": "9b7c8e82",
   "metadata": {},
   "outputs": [],
   "source": []
  },
  {
   "cell_type": "code",
   "execution_count": 9,
   "id": "c9d939c5",
   "metadata": {},
   "outputs": [],
   "source": [
    "#Create regression model for each feature for each players\n",
    "#Note: Unknown players don't work.\n",
    "#Note: Used decision tree regression due to small sample per player. Problem stops predicting past latest event\n",
    "player_feature_models = {}\n",
    "for player in players:\n",
    "    player_feature_model = {}\n",
    "    player_data = data.loc[data['player'] == player]\n",
    "    for feature in features:\n",
    "        feature_model = DecisionTreeRegressor(max_depth=3).fit(player_data['months_from_Jan_2021'].values[:,np.newaxis], player_data[feature])\n",
    "        player_feature_model.update({feature:feature_model})\n",
    "    player_feature_models.update({player:player_feature_model})"
   ]
  },
  {
   "cell_type": "code",
   "execution_count": 10,
   "id": "3181aafa",
   "metadata": {},
   "outputs": [],
   "source": [
    "#Create regression model for each feature for each players\n",
    "#Note: Unknown players don't work.\n",
    "#Note: Used decision tree regression due to problems in prediction. Can cause negative values\n",
    "player_feature_models_linear = {}\n",
    "for player in players:\n",
    "    player_feature_model = {}\n",
    "    player_data = data.loc[data['player'] == player]\n",
    "    for feature in features:\n",
    "        feature_model = LinearRegression().fit(player_data['months_from_Jan_2021'].values[:,np.newaxis], player_data[feature])\n",
    "        player_feature_model.update({feature:feature_model})\n",
    "    player_feature_models_linear.update({player:player_feature_model})"
   ]
  },
  {
   "cell_type": "code",
   "execution_count": 11,
   "id": "dcc2afdf",
   "metadata": {},
   "outputs": [],
   "source": [
    "#Create regression model for each feature for each players\n",
    "#Note: Unknown players don't work.\n",
    "#Note: XGboost models can get very heavy in file size\n",
    "player_feature_models_XGB = {}\n",
    "for player in players:\n",
    "    player_feature_model = {}\n",
    "    player_data = data.loc[data['player'] == player]\n",
    "    for feature in features:\n",
    "        feature_model = XGBRegressor().fit(player_data['months_from_Jan_2021'].values[:,np.newaxis], player_data[feature])\n",
    "        player_feature_model.update({feature:feature_model})\n",
    "    player_feature_models_XGB.update({player:player_feature_model})"
   ]
  },
  {
   "cell_type": "code",
   "execution_count": null,
   "id": "09ca93a6",
   "metadata": {},
   "outputs": [],
   "source": [
    "#Note uses beta regression which limits the max/min values \n",
    "player_feature_models_beta = {}\n",
    "for player in players:\n",
    "    player_feature_model = {}\n",
    "    player_data = data.loc[data['player'] == player]\n",
    "    for feature in features:\n",
    "        feature_min = data['feature'].min() * 1.1\n",
    "        feature_max = data['feature'].max() * 1.1\n",
    "        # Transform the response variable to be between 0 and 1\n",
    "        data[feature] = (data[feature] - feature_min) / (feature_max - feature_min)\n",
    "        feature_model = XGBRegressor().fit(player_data['months_from_Jan_2021'].values[:,np.newaxis], player_data[feature])\n",
    "        player_feature_model.update({feature:feature_model})\n",
    "    player_feature_models_beta.update({player:player_feature_model})"
   ]
  },
  {
   "cell_type": "code",
   "execution_count": 12,
   "id": "ddc0ca22",
   "metadata": {},
   "outputs": [],
   "source": [
    "#Save Models\n",
    "filename = 'player_feature_models.sav'\n",
    "pickle.dump(player_feature_models, open(filename, 'wb'))"
   ]
  },
  {
   "cell_type": "code",
   "execution_count": 13,
   "id": "7d71974e",
   "metadata": {},
   "outputs": [],
   "source": [
    "filename = 'player_feature_models_linear.sav'\n",
    "pickle.dump(player_feature_models_linear, open(filename, 'wb'))"
   ]
  },
  {
   "cell_type": "code",
   "execution_count": 14,
   "id": "8bf417d3",
   "metadata": {},
   "outputs": [],
   "source": [
    "filename = 'player_feature_models_XGB.sav'\n",
    "pickle.dump(player_feature_models_XGB, open(filename, 'wb'))"
   ]
  },
  {
   "cell_type": "code",
   "execution_count": null,
   "id": "1f2697c7",
   "metadata": {},
   "outputs": [],
   "source": []
  },
  {
   "cell_type": "code",
   "execution_count": null,
   "id": "00f15dd3",
   "metadata": {},
   "outputs": [],
   "source": [
    "#Note: Find out if functions can be appended to model."
   ]
  }
 ],
 "metadata": {
  "kernelspec": {
   "display_name": "Python 3 (ipykernel)",
   "language": "python",
   "name": "python3"
  },
  "language_info": {
   "codemirror_mode": {
    "name": "ipython",
    "version": 3
   },
   "file_extension": ".py",
   "mimetype": "text/x-python",
   "name": "python",
   "nbconvert_exporter": "python",
   "pygments_lexer": "ipython3",
   "version": "3.9.7"
  }
 },
 "nbformat": 4,
 "nbformat_minor": 5
}
