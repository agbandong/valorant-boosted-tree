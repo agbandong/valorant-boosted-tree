{
 "cells": [
  {
   "cell_type": "code",
   "execution_count": null,
   "id": "441c50da",
   "metadata": {},
   "outputs": [],
   "source": [
    "import pandas as pd\n",
    "from xgboost import XGBRegressor\n",
    "from sklearn.model_selection import train_test_split\n",
    "from sklearn.metrics import mean_squared_error\n",
    "from xgboost import plot_importance\n",
    "import pickle\n",
    "import matplotlib.pyplot as plt\n",
    "import seaborn as sns"
   ]
  },
  {
   "cell_type": "code",
   "execution_count": null,
   "id": "5e31f79e",
   "metadata": {},
   "outputs": [],
   "source": [
    "# Load the data\n",
    "data = pd.read_excel('SignedPlayersDatasetVALORANT.xlsx')\n",
    "data['date'] = pd.to_datetime(data['date'])\n",
    "# Fix name errors\n",
    "data = data.replace('\\n','', regex=True)\n",
    "data = data.replace(' ','', regex=True)"
   ]
  },
  {
   "cell_type": "code",
   "execution_count": null,
   "id": "8e837a92",
   "metadata": {},
   "outputs": [],
   "source": [
    "# Select features and target variable\n",
    "features = ['kills_per_round', 'assists_per_round', 'average_damage_per_round',\n",
    "            'first_kills_per_round', 'first_deaths_per_round', 'headshot_percentage',\n",
    "            'clutch_success_percentage', 'total_kills', 'total_deaths', 'total_assists',\n",
    "            'total_first_kills', 'total_first_deaths']\n",
    "\n",
    "target_variable = 'average_combat_score'"
   ]
  },
  {
   "cell_type": "code",
   "execution_count": null,
   "id": "a6892851",
   "metadata": {},
   "outputs": [],
   "source": [
    "# Split data into training and testing sets\n",
    "X_train, X_test, y_train, y_test = train_test_split(data[features], data[target_variable], test_size=0.2, random_state=42)"
   ]
  },
  {
   "cell_type": "code",
   "execution_count": null,
   "id": "799a81ee",
   "metadata": {},
   "outputs": [],
   "source": [
    "#Load Model\n",
    "filename = 'model w tuning.sav'\n",
    "model = pickle.load(open(filename, 'rb'))"
   ]
  },
  {
   "cell_type": "code",
   "execution_count": null,
   "id": "36eca020",
   "metadata": {},
   "outputs": [],
   "source": [
    "# Evaluate the model\n",
    "y_pred = model.predict(X_test.to_numpy())"
   ]
  },
  {
   "cell_type": "code",
   "execution_count": null,
   "id": "7c91f04e",
   "metadata": {},
   "outputs": [],
   "source": [
    "# Actual vs Predicted graph\n",
    "\n",
    "# Create a larger figure\n",
    "plt.figure(figsize=(18, 18))\n",
    "\n",
    "# Plot actual vs predicted values with player names\n",
    "plt.scatter(y_test, predictions_optimized)\n",
    "plt.plot([min(y_test), max(y_test)], [min(y_test), max(y_test)], linestyle='--', color='red', linewidth=2)\n",
    "plt.xlabel(\"Actual Average Combat Score\")\n",
    "plt.ylabel(\"Predicted Average Combat Score\")\n",
    "plt.title(\"Actual vs Predicted Average Combat Score\")\n",
    "\n",
    "plt.show()"
   ]
  },
  {
   "cell_type": "code",
   "execution_count": null,
   "id": "0846ac6c",
   "metadata": {},
   "outputs": [],
   "source": [
    "mse = mean_squared_error(y_test, y_pred)\n",
    "print(f'Mean Squared Error: {mse}')"
   ]
  },
  {
   "cell_type": "code",
   "execution_count": null,
   "id": "0a95569e",
   "metadata": {},
   "outputs": [],
   "source": [
    "#Residual Plot\n",
    "residuals = y_test - predictions_optimized\n",
    "plt.scatter(predictions_optimized, residuals)\n",
    "plt.axhline(y=0, color='red', linestyle='--')\n",
    "plt.xlabel('Predicted Values')\n",
    "plt.ylabel('Residuals')\n",
    "plt.show()"
   ]
  },
  {
   "cell_type": "code",
   "execution_count": null,
   "id": "2c2ddaf6",
   "metadata": {},
   "outputs": [],
   "source": [
    "#Distribution of Residuals\n",
    "sns.histplot(residuals, kde=True)\n",
    "plt.xlabel('Residuals')\n",
    "plt.ylabel('Frequency')"
   ]
  },
  {
   "cell_type": "code",
   "execution_count": null,
   "id": "bab5f001",
   "metadata": {},
   "outputs": [],
   "source": [
    "#Other graphs"
   ]
  },
  {
   "cell_type": "code",
   "execution_count": null,
   "id": "95d860e3",
   "metadata": {},
   "outputs": [],
   "source": [
    "# Actual vs Predicted graph player's highest ACS\n",
    "\n",
    "df_model_predict = data.assign(predictions = opt.predict(data[features]))\n",
    "df_only_first = df_model_predict.sort_values('average_combat_score', ascending=False).drop_duplicates(subset='player', keep='first')\n",
    "\n",
    "actual = df_only_first['average_combat_score']\n",
    "high_predictions = df_only_first['predictions']\n",
    "\n",
    "# Create a larger figure\n",
    "plt.figure(figsize=(18, 18))\n",
    "\n",
    "# Plot actual vs predicted values with player names\n",
    "plt.scatter(actual, high_predictions)\n",
    "plt.plot([min(actual), max(actual)], [min(actual), max(actual)], linestyle='--', color='red', linewidth=2)\n",
    "plt.xlabel(\"Actual Highest Average Combat Score\")\n",
    "plt.ylabel(\"Predicted Highest Average Combat Score\")\n",
    "plt.title(\"Actual vs Predicted Highest Average Combat Score\")\n",
    "\n",
    "# Display player names with a larger offset\n",
    "for row in df_only_first.itertuples():\n",
    "    # Add a larger offset to player names\n",
    "    offset = 10  # Adjust this value based on your preference\n",
    "    plt.annotate(row.player, (row.average_combat_score, row.predictions), textcoords=\"offset points\", xytext=(0, offset))\n",
    "\n",
    "# Show the larger plot\n",
    "plt.show()"
   ]
  },
  {
   "cell_type": "code",
   "execution_count": null,
   "id": "b55f13e3",
   "metadata": {},
   "outputs": [],
   "source": [
    "plot_importance(opt)"
   ]
  },
  {
   "cell_type": "code",
   "execution_count": null,
   "id": "76231963",
   "metadata": {},
   "outputs": [],
   "source": []
  }
 ],
 "metadata": {
  "kernelspec": {
   "display_name": "Python 3 (ipykernel)",
   "language": "python",
   "name": "python3"
  },
  "language_info": {
   "codemirror_mode": {
    "name": "ipython",
    "version": 3
   },
   "file_extension": ".py",
   "mimetype": "text/x-python",
   "name": "python",
   "nbconvert_exporter": "python",
   "pygments_lexer": "ipython3",
   "version": "3.9.7"
  }
 },
 "nbformat": 4,
 "nbformat_minor": 5
}
